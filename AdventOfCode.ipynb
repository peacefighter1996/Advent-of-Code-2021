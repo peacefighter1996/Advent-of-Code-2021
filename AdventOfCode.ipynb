{
 "cells": [
  {
   "cell_type": "code",
   "execution_count": 79,
   "metadata": {},
   "outputs": [],
   "source": [
    "data = []\n",
    "# read each row for the data.txt and store it in a list\n",
    "with open('./Day1/data.txt') as f:\n",
    "    data = f.readlines()\n",
    "    # remove \\n from each row\n",
    "    data = [x.strip() for x in data]\n",
    "\n",
    "# loop through the list and change string to int\n",
    "for i in range(len(data)):\n",
    "    data[i] = int(data[i])"
   ]
  },
  {
   "cell_type": "markdown",
   "metadata": {},
   "source": [
    "Assignement Day 1.1"
   ]
  },
  {
   "cell_type": "code",
   "execution_count": 80,
   "metadata": {},
   "outputs": [],
   "source": [
    "# function that checks if the first number is larger than the sencond number\n",
    "def check_larger(first, second):\n",
    "    if first > second:\n",
    "        return True\n",
    "    else:\n",
    "        return False"
   ]
  },
  {
   "cell_type": "code",
   "execution_count": 81,
   "metadata": {},
   "outputs": [
    {
     "name": "stdout",
     "output_type": "stream",
     "text": [
      "1559\n"
     ]
    }
   ],
   "source": [
    "count = 0\n",
    "for x in range (1, len(data)):\n",
    "    # split the row into a list\n",
    "    if (check_larger(data[x], data[x-1])):\n",
    "        count += 1\n",
    "\n",
    "print(count)"
   ]
  },
  {
   "cell_type": "markdown",
   "metadata": {},
   "source": [
    "Assignement Day 1.2"
   ]
  },
  {
   "cell_type": "code",
   "execution_count": 82,
   "metadata": {},
   "outputs": [
    {
     "name": "stdout",
     "output_type": "stream",
     "text": [
      "1600\n"
     ]
    }
   ],
   "source": [
    "# Sum 3 numbers\n",
    "def sum_three(first, second, third):\n",
    "    return first + second + third\n",
    "\n",
    "noise_reduction_list = []\n",
    "\n",
    "# loop through data and add the sum of the three numbers to the noise reduction list\n",
    "for x in range(0, len(data)-2):\n",
    "    noise_reduction_list.append(sum_three(data[x], data[x+1], data[x+2]))\n",
    "\n",
    "# loop through the noise reduction list and check if the first number is larger than the second number\n",
    "count = 0\n",
    "for x in range(1, len(noise_reduction_list)):\n",
    "    if (check_larger(noise_reduction_list[x], noise_reduction_list[x-1])):\n",
    "        count += 1\n",
    "\n",
    "print(count)\n"
   ]
  },
  {
   "cell_type": "markdown",
   "metadata": {},
   "source": [
    "Assigment day 2"
   ]
  },
  {
   "cell_type": "code",
   "execution_count": 83,
   "metadata": {},
   "outputs": [
    {
     "name": "stdout",
     "output_type": "stream",
     "text": [
      "The final position is: 1988, -913\n",
      "The final position multiple: 1815044\n"
     ]
    }
   ],
   "source": [
    "from enum import Enum\n",
    "\n",
    "\n",
    "class Movement:\n",
    "    def __init__(self, direction, distance):\n",
    "        self.direction = direction\n",
    "        self.distance = distance\n",
    "    def __str__(self):\n",
    "        return f\"{self.direction} {self.distance}\"\n",
    "\n",
    "class MovementDirection(Enum):\n",
    "    forward = 1\n",
    "    up = 2\n",
    "    down = 3\n",
    "\n",
    "def GetMovementList():\n",
    "    data = []\n",
    "    with open('./Day2/data.txt') as f:\n",
    "        data = f.readlines()\n",
    "\n",
    "    # split the data into a list\n",
    "    for i in range(len(data)):\n",
    "        temp = data[i].split(' ')\n",
    "        # remove the \\n from the end of the string\n",
    "        temp[len(temp)-1] = temp[len(temp)-1].strip()\n",
    "        data[i] = Movement(MovementDirection[temp[0]], int(temp[1]))\n",
    "    return data\n",
    "\n",
    "data = GetMovementList()\n",
    "# Calculate the postion of the robot\n",
    "def calculate_position(movement_list):\n",
    "    x = 0\n",
    "    z = 0\n",
    "    for movement in movement_list:\n",
    "        if movement.direction == MovementDirection.forward:\n",
    "            x += movement.distance\n",
    "        elif movement.direction == MovementDirection.up:\n",
    "            z += movement.distance\n",
    "        elif movement.direction == MovementDirection.down:\n",
    "            z -= movement.distance\n",
    "    return x, z\n",
    "\n",
    "x,z = calculate_position(data)\n",
    "\n",
    "print(f\"The final position is: {x}, {z}\")\n",
    "print(f\"The final position multiple: {x*-z}\")"
   ]
  },
  {
   "cell_type": "markdown",
   "metadata": {},
   "source": [
    "Assignement Day 2.2"
   ]
  },
  {
   "cell_type": "code",
   "execution_count": 84,
   "metadata": {},
   "outputs": [
    {
     "name": "stdout",
     "output_type": "stream",
     "text": [
      "The final position is: 1988, -874891\n",
      "The final position multiple: 1739283308\n"
     ]
    }
   ],
   "source": [
    "# Calculate the postion of the robot with the new rules. Down decreases the aim. Up increases the aim. Forward increases the x distance and decreases the z multiplied by the aim.\n",
    "def calculate_position_new(movement_list):\n",
    "    aim = 0\n",
    "    x = 0\n",
    "    z = 0\n",
    "    for movement in movement_list:\n",
    "        if movement.direction == MovementDirection.forward:\n",
    "            x += movement.distance\n",
    "            z += aim * movement.distance\n",
    "        elif movement.direction == MovementDirection.up:\n",
    "            aim += movement.distance\n",
    "        elif movement.direction == MovementDirection.down:\n",
    "            aim -= movement.distance\n",
    "    return x, z\n",
    "\n",
    "data = GetMovementList()\n",
    "\n",
    "x,z = calculate_position_new(data)\n",
    "\n",
    "print(f\"The final position is: {x}, {z}\")\n",
    "print(f\"The final position multiple: {x*-z}\")"
   ]
  },
  {
   "cell_type": "markdown",
   "metadata": {},
   "source": [
    "Assignement Day 2.3"
   ]
  },
  {
   "cell_type": "code",
   "execution_count": 88,
   "metadata": {},
   "outputs": [
    {
     "name": "stdout",
     "output_type": "stream",
     "text": [
      "[[0, 0], [0, 0], [0, 0], [0, 0], [0, 0], [0, 0], [0, 0], [0, 0], [0, 0], [0, 0], [0, 0], [0, 0]]\n",
      "[[521, 479], [520, 480], [502, 498], [509, 491], [479, 521], [503, 497], [486, 514], [488, 512], [501, 499], [507, 493], [516, 484], [491, 509]]\n"
     ]
    }
   ],
   "source": [
    "def GetGammaDataList():\n",
    "    data = []\n",
    "    with open('./Day3/data.txt') as f:\n",
    "        data = f.readlines()\n",
    "\n",
    "    # remove \\n from each row\n",
    "    data = [x.strip() for x in data]\n",
    "    return data\n",
    "data = GetGammaDataList()\n",
    "\n",
    "MostCommonBit=[]\n",
    "for i in range(0,len(data[0])):\n",
    "    MostCommonBit.append([0,0])\n",
    "print(MostCommonBit)\n",
    "# Count each bit in the string how many times it appears on the specific index\n",
    "for i in range(len(data)):\n",
    "    for j in range(len(data[i])):\n",
    "        if data[i][j] == '0':\n",
    "            MostCommonBit[j][0] += 1\n",
    "        if data[i][j] == '1':\n",
    "            MostCommonBit[j][1] += 1\n",
    "print(MostCommonBit)\n",
    "\n",
    "# for each list item in the MostCommonBit list, check if the first number is larger than the second number. If is as '1' to Gamma and '0' to Beta\n"
   ]
  }
 ],
 "metadata": {
  "interpreter": {
   "hash": "b01a751e6708595f4741f9b5d8bbef81a532eceb9c15ba618fc11747fd589442"
  },
  "kernelspec": {
   "display_name": "Python 3.9.9 64-bit (windows store)",
   "language": "python",
   "name": "python3"
  },
  "language_info": {
   "codemirror_mode": {
    "name": "ipython",
    "version": 3
   },
   "file_extension": ".py",
   "mimetype": "text/x-python",
   "name": "python",
   "nbconvert_exporter": "python",
   "pygments_lexer": "ipython3",
   "version": "3.8.8"
  },
  "orig_nbformat": 4
 },
 "nbformat": 4,
 "nbformat_minor": 2
}
