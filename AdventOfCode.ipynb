{
 "cells": [
  {
   "cell_type": "code",
   "execution_count": 191,
   "metadata": {},
   "outputs": [],
   "source": [
    "data = []\n",
    "# read each row for the data.txt and store it in a list\n",
    "with open('./data/aoc1.txt') as f:\n",
    "    data = f.readlines()\n",
    "    # remove \\n from each row\n",
    "    data = [x.strip() for x in data]\n",
    "\n",
    "# loop through the list and change string to int\n",
    "for i in range(len(data)):\n",
    "    data[i] = int(data[i])"
   ]
  },
  {
   "cell_type": "markdown",
   "metadata": {},
   "source": [
    "Assignement Day 1.1"
   ]
  },
  {
   "cell_type": "code",
   "execution_count": 192,
   "metadata": {},
   "outputs": [],
   "source": [
    "# function that checks if the first number is larger than the sencond number\n",
    "def check_larger(first, second):\n",
    "    if first > second:\n",
    "        return True\n",
    "    else:\n",
    "        return False"
   ]
  },
  {
   "cell_type": "code",
   "execution_count": 193,
   "metadata": {},
   "outputs": [
    {
     "name": "stdout",
     "output_type": "stream",
     "text": [
      "1559\n"
     ]
    }
   ],
   "source": [
    "count = 0\n",
    "for x in range (1, len(data)):\n",
    "    # split the row into a list\n",
    "    if (check_larger(data[x], data[x-1])):\n",
    "        count += 1\n",
    "\n",
    "print(count)"
   ]
  },
  {
   "cell_type": "markdown",
   "metadata": {},
   "source": [
    "Assignement Day 1.2"
   ]
  },
  {
   "cell_type": "code",
   "execution_count": 194,
   "metadata": {},
   "outputs": [
    {
     "name": "stdout",
     "output_type": "stream",
     "text": [
      "1600\n"
     ]
    }
   ],
   "source": [
    "# Sum 3 numbers\n",
    "def sum_three(first, second, third):\n",
    "    return first + second + third\n",
    "\n",
    "noise_reduction_list = []\n",
    "\n",
    "# loop through data and add the sum of the three numbers to the noise reduction list\n",
    "for x in range(0, len(data)-2):\n",
    "    noise_reduction_list.append(sum_three(data[x], data[x+1], data[x+2]))\n",
    "\n",
    "# loop through the noise reduction list and check if the first number is larger than the second number\n",
    "count = 0\n",
    "for x in range(1, len(noise_reduction_list)):\n",
    "    if (check_larger(noise_reduction_list[x], noise_reduction_list[x-1])):\n",
    "        count += 1\n",
    "\n",
    "print(count)\n"
   ]
  },
  {
   "cell_type": "markdown",
   "metadata": {},
   "source": [
    "Assigment day 2"
   ]
  },
  {
   "cell_type": "code",
   "execution_count": 195,
   "metadata": {},
   "outputs": [
    {
     "name": "stdout",
     "output_type": "stream",
     "text": [
      "The final position is: 1988, -913\n",
      "The final position multiple: 1815044\n"
     ]
    }
   ],
   "source": [
    "from enum import Enum\n",
    "\n",
    "\n",
    "class Movement:\n",
    "    def __init__(self, direction, distance):\n",
    "        self.direction = direction\n",
    "        self.distance = distance\n",
    "    def __str__(self):\n",
    "        return f\"{self.direction} {self.distance}\"\n",
    "\n",
    "class MovementDirection(Enum):\n",
    "    forward = 1\n",
    "    up = 2\n",
    "    down = 3\n",
    "\n",
    "def GetMovementList():\n",
    "    data = []\n",
    "    with open('./data/aoc2.txt') as f:\n",
    "        data = f.readlines()\n",
    "\n",
    "    # split the data into a list\n",
    "    for i in range(len(data)):\n",
    "        temp = data[i].split(' ')\n",
    "        # remove the \\n from the end of the string\n",
    "        temp[len(temp)-1] = temp[len(temp)-1].strip()\n",
    "        data[i] = Movement(MovementDirection[temp[0]], int(temp[1]))\n",
    "    return data\n",
    "\n",
    "data = GetMovementList()\n",
    "# Calculate the postion of the robot\n",
    "def calculate_position(movement_list):\n",
    "    x = 0\n",
    "    z = 0\n",
    "    for movement in movement_list:\n",
    "        if movement.direction == MovementDirection.forward:\n",
    "            x += movement.distance\n",
    "        elif movement.direction == MovementDirection.up:\n",
    "            z += movement.distance\n",
    "        elif movement.direction == MovementDirection.down:\n",
    "            z -= movement.distance\n",
    "    return x, z\n",
    "\n",
    "x,z = calculate_position(data)\n",
    "\n",
    "print(f\"The final position is: {x}, {z}\")\n",
    "print(f\"The final position multiple: {x*-z}\")"
   ]
  },
  {
   "cell_type": "markdown",
   "metadata": {},
   "source": [
    "Assignement Day 2.2"
   ]
  },
  {
   "cell_type": "code",
   "execution_count": 196,
   "metadata": {},
   "outputs": [
    {
     "name": "stdout",
     "output_type": "stream",
     "text": [
      "The final position is: 1988, -874891\n",
      "The final position multiple: 1739283308\n"
     ]
    }
   ],
   "source": [
    "# Calculate the postion of the robot with the new rules. Down decreases the aim. Up increases the aim. Forward increases the x distance and decreases the z multiplied by the aim.\n",
    "def calculate_position_new(movement_list):\n",
    "    aim = 0\n",
    "    x = 0\n",
    "    z = 0\n",
    "    for movement in movement_list:\n",
    "        if movement.direction == MovementDirection.forward:\n",
    "            x += movement.distance\n",
    "            z += aim * movement.distance\n",
    "        elif movement.direction == MovementDirection.up:\n",
    "            aim += movement.distance\n",
    "        elif movement.direction == MovementDirection.down:\n",
    "            aim -= movement.distance\n",
    "    return x, z\n",
    "\n",
    "data = GetMovementList()\n",
    "\n",
    "x,z = calculate_position_new(data)\n",
    "\n",
    "print(f\"The final position is: {x}, {z}\")\n",
    "print(f\"The final position multiple: {x*-z}\")"
   ]
  },
  {
   "cell_type": "markdown",
   "metadata": {},
   "source": [
    "Assignement Day 3.1"
   ]
  },
  {
   "cell_type": "code",
   "execution_count": 197,
   "metadata": {},
   "outputs": [
    {
     "name": "stdout",
     "output_type": "stream",
     "text": [
      "[[0, 0], [0, 0], [0, 0], [0, 0], [0, 0], [0, 0], [0, 0], [0, 0], [0, 0], [0, 0], [0, 0], [0, 0]]\n",
      "[[521, 479], [520, 480], [502, 498], [509, 491], [479, 521], [503, 497], [486, 514], [488, 512], [501, 499], [507, 493], [516, 484], [491, 509]]\n",
      "000010110001\n",
      "177, 3918\n",
      "693486\n"
     ]
    }
   ],
   "source": [
    "def GetGammaDataList():\n",
    "    data = []\n",
    "    with open('./data/aoc3.txt') as f:\n",
    "        data = f.readlines()\n",
    "\n",
    "    # remove \\n from each row\n",
    "    data = [x.strip() for x in data]\n",
    "    return data\n",
    "data = GetGammaDataList()\n",
    "\n",
    "MostCommonBit=[]\n",
    "for i in range(0,len(data[0])):\n",
    "    MostCommonBit.append([0,0])\n",
    "print(MostCommonBit)\n",
    "# Count each bit in the string how many times it appears on the specific index\n",
    "for i in range(len(data)):\n",
    "    for j in range(len(data[i])):\n",
    "        if data[i][j] == '0':\n",
    "            MostCommonBit[j][0] += 1\n",
    "        if data[i][j] == '1':\n",
    "            MostCommonBit[j][1] += 1\n",
    "print(MostCommonBit)\n",
    "\n",
    "MostCommonByte = ''\n",
    "# for each list item in the MostCommonBit list, check if the first number is larger than the second number. If is as '1' to Gamma and '0' to Beta\n",
    "for i in range(len(MostCommonBit)):\n",
    "    if MostCommonBit[i][1] > MostCommonBit[i][0]:\n",
    "        MostCommonByte += '1'\n",
    "    else:\n",
    "        MostCommonByte += '0'\n",
    "\n",
    "#string to bit array\n",
    "print(MostCommonByte)\n",
    "MostCommonByte = list(MostCommonByte)\n",
    "MostCommonByte = [int(x) for x in MostCommonByte]\n",
    "\n",
    "Gamma = 0\n",
    "Epsilon = 0\n",
    "for i in range(len(MostCommonByte)):\n",
    "    if (MostCommonByte[i] == 1):\n",
    "        Gamma += 2**(len(MostCommonByte)-i-1)\n",
    "    else:\n",
    "        Epsilon += 2**(len(MostCommonByte)-i-1)\n",
    "\n",
    "print(f\"{Gamma}, {Epsilon}\")\n",
    "print(f\"{Gamma * Epsilon}\")"
   ]
  },
  {
   "cell_type": "markdown",
   "metadata": {},
   "source": [
    "Assigment 3.2"
   ]
  },
  {
   "cell_type": "code",
   "execution_count": 198,
   "metadata": {},
   "outputs": [
    {
     "name": "stdout",
     "output_type": "stream",
     "text": [
      "1000\n",
      "001110100101, 111000100110\n",
      "933, 3622\n",
      "3379326\n"
     ]
    }
   ],
   "source": [
    "def GetGammaDataList():\n",
    "    data = []\n",
    "    with open('./data/aoc3.txt') as f:\n",
    "        data = f.readlines()\n",
    "\n",
    "    # remove \\n from each row\n",
    "    data = [x.strip() for x in data]\n",
    "    return data\n",
    "data = GetGammaDataList()\n",
    "print(len(data))\n",
    "tempData = data.copy()\n",
    "for i in range(len(data[0])):\n",
    "    MostCommonBit=[0,0]\n",
    "    for j in range(len(tempData)):\n",
    "        if tempData[j][i] == '0':\n",
    "            MostCommonBit[0] += 1\n",
    "        if tempData[j][i] == '1':\n",
    "            MostCommonBit[1] += 1\n",
    "\n",
    "    \n",
    "    if(not(MostCommonBit[0] == 0 or MostCommonBit[1] == 0)):\n",
    "        most = []\n",
    "        toggle = MostCommonBit[1] >= MostCommonBit[0]\n",
    "        for j in range(len(tempData)):\n",
    "            if toggle == (tempData[j][i] == '1'):\n",
    "                most.append(tempData[j])\n",
    "                \n",
    "            if not toggle == (tempData[j][i] == '0'):\n",
    "                most.append(tempData[j])\n",
    "        tempData = most\n",
    "\n",
    "Oxygen = tempData[0]\n",
    "\n",
    "\n",
    "tempData = GetGammaDataList()\n",
    "for i in range(len(data[0])):\n",
    "    MostCommonBit=[0,0]\n",
    "    \n",
    "    for j in range(len(tempData)):\n",
    "        if tempData[j][i] == '0':\n",
    "            MostCommonBit[0] += 1\n",
    "        if tempData[j][i] == '1':\n",
    "            MostCommonBit[1] += 1\n",
    "\n",
    "    if(not(MostCommonBit[0] == 0 or MostCommonBit[1] == 0)):\n",
    "        least = []\n",
    "        toggle = MostCommonBit[1] < MostCommonBit[0]\n",
    "        for j in range(len(tempData)):\n",
    "            if toggle == (tempData[j][i] == '1'):\n",
    "                least.append(tempData[j])\n",
    "                \n",
    "            if not toggle == (tempData[j][i] == '0'):\n",
    "                least.append(tempData[j])\n",
    "        tempData = least\n",
    "\n",
    "Co2 = tempData[0]\n",
    "\n",
    "\n",
    "# bit string to int\n",
    "def bit_string_to_int(bit_string):\n",
    "    return \n",
    "\n",
    "\n",
    "print(f\"{Oxygen}, {Co2}\")\n",
    "print(f\"{int(Oxygen, 2)}, {int(Co2, 2)}\")\n",
    "print(f\"{int(Oxygen, 2) * int(Co2, 2)}\")\n",
    "            \n",
    "\n"
   ]
  },
  {
   "cell_type": "markdown",
   "metadata": {},
   "source": [
    "Assignment 4.1 + 2"
   ]
  },
  {
   "cell_type": "code",
   "execution_count": 199,
   "metadata": {},
   "outputs": [
    {
     "name": "stdout",
     "output_type": "stream",
     "text": [
      "1 cards won\n",
      "Card 82\n",
      "1\n",
      "[[18, 30, 28, 50, 81], [67, 47, 41, 45, 59], [51, 14, 92, 6, 68], [8, 46, 69, 84, 13], [93, 25, 58, 26, 75]]\n",
      "[[1. 1. 0. 1. 1.]\n",
      " [0. 1. 1. 0. 0.]\n",
      " [0. 1. 0. 0. 0.]\n",
      " [0. 1. 0. 0. 1.]\n",
      " [1. 1. 1. 0. 1.]]\n",
      "[30, 47, 14, 46, 25]\n",
      "value: 8442\n",
      "Card 69\n",
      "100\n",
      "[[48, 66, 23, 26, 15], [16, 76, 81, 10, 49], [57, 74, 68, 67, 98], [43, 31, 53, 94, 86], [80, 71, 85, 0, 33]]\n",
      "[[1. 1. 1. 1. 1.]\n",
      " [1. 1. 1. 0. 1.]\n",
      " [1. 0. 1. 1. 1.]\n",
      " [0. 1. 1. 0. 1.]\n",
      " [1. 1. 0. 1. 1.]]\n",
      "[48, 66, 23, 26, 15]\n",
      "value: 4590\n"
     ]
    }
   ],
   "source": [
    "import numpy as np\n",
    "class BingoGame:\n",
    "    def __init__(self, BingoCards, OrderOfDrawnNumbers):\n",
    "        self.BingoCards = BingoCards\n",
    "        self.OrderOfDrawnNumbers = OrderOfDrawnNumbers\n",
    "        self.winner = []\n",
    "        self.winningNumber = None\n",
    "    def Play(self):\n",
    "        completedCards = 0\n",
    "        for number in self.OrderOfDrawnNumbers:\n",
    "            for card in self.BingoCards:\n",
    "                if card.rank == None:\n",
    "                    card.MarkNumber(number)\n",
    "\n",
    "            roundCards = 0\n",
    "            for card in self.BingoCards:\n",
    "                \n",
    "                if card.rank == None:\n",
    "                    if card.IsComplete():\n",
    "                        \n",
    "                        if completedCards == 0:\n",
    "                            self.winningNumber = number\n",
    "                            self.winner.append(card)\n",
    "                        card.rank = completedCards+1\n",
    "                        card.winning_number  = number\n",
    "                        # print(f\"{card.Name} is placed {card.rank}\")\n",
    "                        roundCards += 1\n",
    "            completedCards += roundCards\n",
    "\n",
    "            # Game is over\n",
    "            if completedCards == len(self.BingoCards):\n",
    "                break\n",
    "            \n",
    "        return self.winner\n",
    "\n",
    "class BingoCard:\n",
    "    def __init__(self, card_numbers):\n",
    "        # split all the \n",
    "        self.board = card_numbers\n",
    "        self.marked_numbers = np.zeros([5,5])\n",
    "        self.rank = None\n",
    "        self.winning_number = None\n",
    "\n",
    "    def MarkNumber(self, number):\n",
    "        location = self.LocationOnBoard(number)\n",
    "        if (location != None):\n",
    "            self.marked_numbers[location[0]][location[1]] = 1\n",
    "    \n",
    "    def IsComplete(self):\n",
    "        # row is complete\n",
    "        for i in range(5):\n",
    "            if (self.marked_numbers[i][0] == 1 \n",
    "            and self.marked_numbers[i][1] == 1 \n",
    "            and self.marked_numbers[i][2] == 1 \n",
    "            and self.marked_numbers[i][3] == 1 \n",
    "            and self.marked_numbers[i][4] == 1):\n",
    "                return True\n",
    "        # column is complete\n",
    "            if (self.marked_numbers[0][i] == 1 \n",
    "            and self.marked_numbers[1][i] == 1 \n",
    "            and self.marked_numbers[2][i] == 1 \n",
    "            and self.marked_numbers[3][i] == 1 \n",
    "            and self.marked_numbers[4][i] == 1):\n",
    "                return True\n",
    "\n",
    "    def LocationOnBoard(self, number):\n",
    "        for i in range(5):\n",
    "            for j in range(5):\n",
    "                if self.board[i][j] == number:\n",
    "                    return [i,j]\n",
    "        return None\n",
    "\n",
    "    # Get Completed Row or Column\n",
    "    def GetCompletedRowOrColumn(self):\n",
    "        for i in range(5):\n",
    "            if (self.marked_numbers[i][0] == 1 \n",
    "            and self.marked_numbers[i][1] == 1 \n",
    "            and self.marked_numbers[i][2] == 1 \n",
    "            and self.marked_numbers[i][3] == 1 \n",
    "            and self.marked_numbers[i][4] == 1):\n",
    "                return self.board[i]\n",
    "\n",
    "            if (self.marked_numbers[0][i] == 1 \n",
    "            and self.marked_numbers[1][i] == 1 \n",
    "            and self.marked_numbers[2][i] == 1 \n",
    "            and self.marked_numbers[3][i] == 1 \n",
    "            and self.marked_numbers[4][i] == 1):\n",
    "                return [self.board[0][i], self.board[1][i], self.board[2][i], self.board[3][i], self.board[4][i]]\n",
    "        return None\n",
    "    # Sum all unmarked numbers\n",
    "    def SumUnmarkedNumbers(self):\n",
    "        sum = 0\n",
    "        for i in range(5):\n",
    "            for j in range(5):\n",
    "                if self.marked_numbers[i][j] == 0:\n",
    "                    sum += self.board[i][j]\n",
    "        return sum\n",
    "def GetBingo():\n",
    "    data = []\n",
    "    with open('./data/aoc4.txt') as f:\n",
    "        data = f.readlines()\n",
    "\n",
    "    # remove \\n from each row\n",
    "    data = [x.strip() for x in data]\n",
    "\n",
    "    # first line the order of numbers comma separated\n",
    "    order = data[0].split(',')\n",
    "    order = [int(x) for x in order]\n",
    "    # remove the first line\n",
    "    data.pop(0)\n",
    "    # remove line if equal to ''\n",
    "    data = [x for x in data if x != '']\n",
    "    # Create a list of bingo cards\n",
    "    bingo_cards = []\n",
    "    # Create a list of bingo cards\n",
    "    for i in range(int(len(data)/5)):\n",
    "        board = data[i*5:i*5+5]\n",
    "        # split numbers in each row\n",
    "        board = [x.split(' ') for x in board]\n",
    "        # remove empty strings from each row\n",
    "        board = [[int(x) for x in y if x != ''] for y in board]\n",
    "        # convert to int\n",
    "        board = [[int(x) for x in y] for y in board]\n",
    "        bingo_cards.append(BingoCard(board))\n",
    "        bingo_cards[i].Name = f\"Card {i+1}\"\n",
    "\n",
    "    return BingoGame(bingo_cards, order)\n",
    "\n",
    "bingo_game =GetBingo()\n",
    "\n",
    "winning_cards = bingo_game.Play()\n",
    "\n",
    "\n",
    "print(f\"{len(winning_cards)} cards won\")\n",
    "# print winning cards\n",
    "for card in winning_cards:\n",
    "    print(card.Name)\n",
    "    print(card.rank)\n",
    "    print(card.board)\n",
    "    print(card.marked_numbers)\n",
    "    print(card.GetCompletedRowOrColumn())\n",
    "    print(f\"value: {card.SumUnmarkedNumbers() * card.winning_number}\")\n",
    "\n",
    "weakest_card = winning_cards[0]\n",
    "# get the card with the lowest rank\n",
    "for card in bingo_game.BingoCards:\n",
    "    if card.rank > weakest_card.rank:\n",
    "        weakest_card = card\n",
    "\n",
    "print(weakest_card.Name)\n",
    "print(weakest_card.rank)\n",
    "print(weakest_card.board)\n",
    "print(weakest_card.marked_numbers)\n",
    "print(weakest_card.GetCompletedRowOrColumn())\n",
    "print(f\"value: {weakest_card.SumUnmarkedNumbers() * weakest_card.winning_number}\")"
   ]
  },
  {
   "cell_type": "markdown",
   "metadata": {},
   "source": [
    "Assignment 5.1"
   ]
  },
  {
   "cell_type": "code",
   "execution_count": 200,
   "metadata": {},
   "outputs": [],
   "source": [
    "import cv2  \n",
    "import numpy as np\n",
    "\n",
    "class Line:\n",
    "    def __init__(self, start, end):\n",
    "        self.start = start\n",
    "        self.end = end\n",
    "        if ((end.x - start.x) == 0):\n",
    "            self.slope = None\n",
    "        else:\n",
    "            self.slope = (end.y - start.y) / (end.x - start.x)\n",
    "    def __str__(self):\n",
    "        return f\"{self.start} -> {self.end}\"\n",
    "\n",
    "    def LineFunction(self, x):\n",
    "        return self.slope * (x - self.start.x) + self.start.y\n",
    "    def GetPixels(self):\n",
    "        if self.slope == None:\n",
    "            for i in range(min(self.start.y, self.end.y),max(self.start.y, self.end.y)+1):\n",
    "                yield [self.start.x, i]\n",
    "        else:\n",
    "            for i in range(min(self.start.x, self.end.x),max(self.start.x, self.end.x)+1):\n",
    "                yield [i, int(self.LineFunction(i))]\n",
    "    \n",
    "    def Horizontal(self):\n",
    "        return self.start.y == self.end.y\n",
    "    def Vertical(self):\n",
    "        return self.start.x == self.end.x\n",
    "\n",
    "\n",
    "class Coordinate:\n",
    "    def __init__(self, x, y):\n",
    "        self.x = x\n",
    "        self.y = y\n",
    "    def __str__(self):\n",
    "        return f\"({self.x},{self.y})\"\n",
    "\n",
    "def GetLines():\n",
    "    data = []\n",
    "    with open('./data/aoc5.txt') as f:\n",
    "        data = f.readlines()\n",
    "\n",
    "    # remove \\n from each row\n",
    "    data = [x.strip() for x in data]\n",
    "    # split arrow from each line\n",
    "    data = [x.split('->') for x in data]\n",
    "    # remove empty strings from each line\n",
    "    data = [[x for x in y if x != ''] for y in data]\n",
    "    # split each line into start and end\n",
    "    data = [[y.split(',') for y in x] for x in data]\n",
    "    # convert to coordinate\n",
    "    data = [[Coordinate(int(x), int(y)) for x,y in z] for z in data]\n",
    "    # create lines\n",
    "    lines = []\n",
    "    for i in range(len(data)):\n",
    "        lines.append(Line(data[i][0], data[i][1]))\n",
    "    return lines\n",
    "\n",
    "lines = GetLines()\n",
    "\n",
    "validationData = []\n",
    "\n",
    "with open('./data/aoc5.txt') as f:\n",
    "    data = f.readlines()\n",
    "    data = [x.strip() for x in data]\n",
    "for line in lines:\n",
    "    validationData.append(str(line).replace(\"(\",'').replace(\")\",''))\n",
    "\n",
    "for i in range(len(validationData)):\n",
    "    if validationData[i] != data[i]:\n",
    "        print(f\"{i} {validationData[i]} != {data[i]}\")\n"
   ]
  },
  {
   "cell_type": "code",
   "execution_count": 201,
   "metadata": {},
   "outputs": [
    {
     "name": "stdout",
     "output_type": "stream",
     "text": [
      "6311\n"
     ]
    },
    {
     "data": {
      "text/plain": [
       "True"
      ]
     },
     "execution_count": 201,
     "metadata": {},
     "output_type": "execute_result"
    }
   ],
   "source": [
    "nArray = np.full((1000, 1000), 0, dtype=np.uint8)\n",
    "\n",
    "# draw lines\n",
    "for line in lines:\n",
    "    if line.Horizontal() or line.Vertical():\n",
    "        for pixel in line.GetPixels():\n",
    "            nArray[pixel[1]][pixel[0]] += 1\n",
    "\n",
    "# count pixels in nArray with value >= 2\n",
    "count = 0\n",
    "for i in range(1000):\n",
    "    for j in range(1000):\n",
    "        if nArray[i][j] >= 2:\n",
    "            count += 1\n",
    "print(count)\n",
    "\n",
    "# scale each pixel to a value between 0 and 255\n",
    "nArray = nArray / np.max(nArray) * 255\n",
    "\n",
    "cv2.imwrite(\"Images/Assignment5_1.bmp\", nArray)"
   ]
  },
  {
   "cell_type": "markdown",
   "metadata": {},
   "source": [
    "Assignment 5.2"
   ]
  },
  {
   "cell_type": "code",
   "execution_count": 205,
   "metadata": {},
   "outputs": [
    {
     "name": "stdout",
     "output_type": "stream",
     "text": [
      "19929\n"
     ]
    },
    {
     "data": {
      "text/plain": [
       "True"
      ]
     },
     "execution_count": 205,
     "metadata": {},
     "output_type": "execute_result"
    }
   ],
   "source": [
    "nArray = np.full((1000, 1000), 0, dtype=np.uint8)\n",
    "for line in lines:\n",
    "    for pixel in line.GetPixels():\n",
    "        nArray[pixel[1]][pixel[0]] += 1\n",
    "# count pixels in nArray with value >= 2\n",
    "count = 0\n",
    "for i in range(1000):\n",
    "    for j in range(1000):\n",
    "        if nArray[i][j] >= 2:\n",
    "            count += 1\n",
    "print(count)\n",
    "\n",
    "nArray = nArray / np.max(nArray) * 255\n",
    "cv2.imwrite(\"Images/Assignment5_2.bmp\", nArray)\n"
   ]
  }
 ],
 "metadata": {
  "interpreter": {
   "hash": "b01a751e6708595f4741f9b5d8bbef81a532eceb9c15ba618fc11747fd589442"
  },
  "kernelspec": {
   "display_name": "Python 3.9.9 64-bit (windows store)",
   "language": "python",
   "name": "python3"
  },
  "language_info": {
   "codemirror_mode": {
    "name": "ipython",
    "version": 3
   },
   "file_extension": ".py",
   "mimetype": "text/x-python",
   "name": "python",
   "nbconvert_exporter": "python",
   "pygments_lexer": "ipython3",
   "version": "3.8.5"
  },
  "orig_nbformat": 4
 },
 "nbformat": 4,
 "nbformat_minor": 2
}
