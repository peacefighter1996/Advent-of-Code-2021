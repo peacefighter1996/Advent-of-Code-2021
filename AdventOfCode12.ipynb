{
 "cells": [
  {
   "cell_type": "markdown",
   "metadata": {},
   "source": [
    "Assignment 12"
   ]
  },
  {
   "cell_type": "code",
   "execution_count": 178,
   "metadata": {},
   "outputs": [],
   "source": [
    "import numpy as np\n",
    "import cv2\n",
    "\n",
    "class Cave:\n",
    "    def __init__(self, name):\n",
    "        self.name = name\n",
    "        # if name is in capitals, it's a big cave\n",
    "        self.big = name.isupper()\n",
    "        self.Connected = []\n",
    "\n",
    "    def AddTunnel(self, cave):\n",
    "        self.Connected.append(cave)\n",
    "        self.Connected=sorted(self.Connected, key=lambda x: x.name)\n",
    "\n",
    "    def __str__(self):\n",
    "        return self.name\n",
    "    \n",
    "    def __repr__(self):\n",
    "        return self.name\n",
    "\n",
    "    def __eq__(self, __o: object) -> bool:\n",
    "        return self.name == __o.name\n",
    "        \n",
    "    # print all connected caves\n",
    "    def PrintConnected(self):\n",
    "        print(self.Connected)\n",
    "    \n",
    "\n",
    "\n",
    "\n",
    "# Add to caves \n",
    "def AddToCaves(caves, cave):\n",
    "    if cave not in caves:\n",
    "        #print(\"Adding \" + cave.name)\n",
    "        caves.append(cave)\n",
    "        return caves, cave\n",
    "    else:\n",
    "        for j in range(0, len(caves)):\n",
    "            if caves[j].name == cave.name:\n",
    "                #print(\"Already added \" + caves[j].name)\n",
    "                return caves, caves[j]    \n",
    "                \n",
    "\n",
    "\n",
    "\n",
    "# Get the area of the image of from the document\n",
    "def GetCaveSystem(dataset):\n",
    "    data = []\n",
    "    with open(dataset, 'r') as f:\n",
    "        data = f.readlines()\n",
    "    # strip the new line character\n",
    "    data = [x.strip() for x in data]\n",
    "    data = [x.split('-') for x in data]\n",
    "\n",
    "    # create the cave system\n",
    "    caves = []\n",
    "    for i in range(len(data)):\n",
    "        # add the cave to the cave system\n",
    "        caves, tmpCave1 = AddToCaves(caves, Cave(data[i][0]))\n",
    "        caves, tmpCave2 = AddToCaves(caves, Cave(data[i][1]))\n",
    "        # add the tunnels\n",
    "        tmpCave1.AddTunnel(tmpCave2)\n",
    "        tmpCave2.AddTunnel(tmpCave1)\n",
    "\n",
    "    caves = sorted(caves, key=lambda x: x.name)\n",
    "    return caves\n",
    "\n",
    "# breath first traverse the cave system and return all the paths. \n",
    "# If the cave is small only travese it one time. \n",
    "# If its a big cave, It can travese it multiple times. \n",
    "# do this until all path combination are found and return the paths.\n",
    "def TraverseCaveSystem(cave, visited, end):\n",
    "    paths = []\n",
    "    if cave.name == end.name:\n",
    "        paths.append([cave])\n",
    "        return paths\n",
    "    for i in range(0, len(cave.Connected)):\n",
    "        if cave.Connected[i] not in visited or cave.Connected[i].big:\n",
    "            newVisited = visited + [cave.Connected[i]]\n",
    "            tmp = TraverseCaveSystem(cave.Connected[i], newVisited, end)\n",
    "            for j in range(0, len(tmp)):\n",
    "                paths.append([cave] + tmp[j])\n",
    "\n",
    "    return paths\n",
    "\n",
    "def FindStartAndEnd(caves):\n",
    "    for i in range(0, len(caves)):\n",
    "        if caves[i].name == 'start':\n",
    "            start = caves[i]\n",
    "        if caves[i].name == 'end':\n",
    "            end = caves[i]\n",
    "    return start, end\n",
    "            \n"
   ]
  },
  {
   "cell_type": "code",
   "execution_count": 179,
   "metadata": {},
   "outputs": [
    {
     "name": "stdout",
     "output_type": "stream",
     "text": [
      "5212\n"
     ]
    }
   ],
   "source": [
    "data = GetCaveSystem('./data/aoc12.txt')\n",
    "\n",
    "start , end = FindStartAndEnd(data)\n",
    "paths = TraverseCaveSystem(start, [start], end)\n",
    "\n",
    "print(len(paths))\n"
   ]
  },
  {
   "cell_type": "markdown",
   "metadata": {},
   "source": [
    "Part 2"
   ]
  },
  {
   "cell_type": "code",
   "execution_count": 180,
   "metadata": {},
   "outputs": [],
   "source": [
    "def TraverseCaveSystemNew(cave, visited, end, small = [[]]):\n",
    "    paths = []\n",
    "    if cave.name == end.name:\n",
    "        paths.append([cave])\n",
    "        return paths\n",
    "    for i in range(0, len(cave.Connected)):\n",
    "        if cave.Connected[i].big:\n",
    "            newVisited = visited + [cave.Connected[i]]\n",
    "            tmp = TraverseCaveSystemNew(cave.Connected[i], newVisited, end, small)\n",
    "            for j in range(0, len(tmp)):\n",
    "                paths.append([cave] + tmp[j])\n",
    "            continue\n",
    "\n",
    "        elif cave.Connected[i] not in visited:\n",
    "            newVisited = visited + [cave.Connected[i]]\n",
    "            newSmall = small + [[cave.Connected[i],1]]\n",
    "            tmp = TraverseCaveSystemNew(cave.Connected[i], newVisited, end, newSmall)\n",
    "            for j in range(0, len(tmp)):\n",
    "                paths.append([cave] + tmp[j])\n",
    "            continue\n",
    "        \n",
    "        if cave.Connected[i].name == 'start':\n",
    "            continue\n",
    "\n",
    "        else:\n",
    "            twice = False\n",
    "            for j in range(0, len(small)):\n",
    "                if small[j][1] == 2:\n",
    "                    twice = True\n",
    "                    break\n",
    "            if not twice:\n",
    "                newVisited = visited + [cave.Connected[i]]\n",
    "                newSmall = small + [[cave.Connected[i],2]]\n",
    "                tmp = TraverseCaveSystemNew(cave.Connected[i], newVisited, end, newSmall)\n",
    "                for j in range(0, len(tmp)):\n",
    "                    paths.append([cave] + tmp[j])\n",
    "\n",
    "    return paths\n",
    "    "
   ]
  },
  {
   "cell_type": "code",
   "execution_count": 181,
   "metadata": {},
   "outputs": [
    {
     "name": "stdout",
     "output_type": "stream",
     "text": [
      "134862\n"
     ]
    }
   ],
   "source": [
    "\n",
    "data = GetCaveSystem('./data/aoc12.txt')\n",
    "\n",
    "# find the start and end cave\n",
    "start , end = FindStartAndEnd(data)\n",
    "paths = TraverseCaveSystemNew(start, [start], end, [[start,1]])\n",
    "print(len(paths))\n",
    "#print(paths)"
   ]
  }
 ],
 "metadata": {
  "interpreter": {
   "hash": "b3ba2566441a7c06988d0923437866b63cedc61552a5af99d1f4fb67d367b25f"
  },
  "kernelspec": {
   "display_name": "Python 3.8.5 64-bit ('base': conda)",
   "language": "python",
   "name": "python3"
  },
  "language_info": {
   "codemirror_mode": {
    "name": "ipython",
    "version": 3
   },
   "file_extension": ".py",
   "mimetype": "text/x-python",
   "name": "python",
   "nbconvert_exporter": "python",
   "pygments_lexer": "ipython3",
   "version": "3.8.5"
  },
  "orig_nbformat": 4
 },
 "nbformat": 4,
 "nbformat_minor": 2
}
