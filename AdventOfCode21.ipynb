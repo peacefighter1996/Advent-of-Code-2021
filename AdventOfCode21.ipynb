{
 "cells": [
  {
   "cell_type": "markdown",
   "metadata": {},
   "source": [
    "Assignment 21"
   ]
  },
  {
   "cell_type": "code",
   "execution_count": 77,
   "metadata": {},
   "outputs": [],
   "source": [
    "import numpy as np\n",
    "\n",
    "class Player:\n",
    "    def __init__(self, id, pos, score = 0):\n",
    "        self.id = id\n",
    "        self.score = score\n",
    "        self.position = pos\n",
    "        self.universesWon = np.uint64(0)\n",
    "\n",
    "def PlayTillEndDeterministic(players):\n",
    "    diceRoll = 0\n",
    "    \n",
    "    index = 0\n",
    "    while(True):\n",
    "        player = players[index]\n",
    "        for k in range (3):\n",
    "            diceValue = 0\n",
    "            diceRoll +=1\n",
    "            if diceRoll % 100 == 0:\n",
    "                diceValue = 100\n",
    "            else:\n",
    "                diceValue = diceRoll % 100\n",
    "            player.position += diceValue \n",
    "        if player.position %10 == 0:\n",
    "                player.score += 10\n",
    "                player.position = 10\n",
    "        else:\n",
    "            player.position = player.position % 10\n",
    "            player.score += player.position\n",
    "        if (player.score >= 1000):\n",
    "            break\n",
    "        index = (index + 1)%len(players)\n",
    "    return players, diceRoll\n",
    "        \n",
    "    \n"
   ]
  },
  {
   "cell_type": "code",
   "execution_count": 78,
   "metadata": {},
   "outputs": [
    {
     "name": "stdout",
     "output_type": "stream",
     "text": [
      "Player with lowest score: <__main__.Player object at 0x0000025DD5714D00>\n",
      "739785\n"
     ]
    }
   ],
   "source": [
    "players, rollTimes = PlayTillEndDeterministic([Player(1, 4), Player(2, 8)])\n",
    "player = min(players, key=lambda x: x.score)\n",
    "\n",
    "print(player.score * rollTimes)"
   ]
  },
  {
   "cell_type": "code",
   "execution_count": 79,
   "metadata": {},
   "outputs": [
    {
     "name": "stdout",
     "output_type": "stream",
     "text": [
      "Player with lowest score: <__main__.Player object at 0x0000025DD5717D00>\n",
      "929625\n"
     ]
    }
   ],
   "source": [
    "players, rollTimes = PlayTillEndDeterministic([Player(0, 6), Player(1, 1)])\n",
    "player = min(players, key=lambda x: x.score)\n",
    "\n",
    "print(player.score * rollTimes)"
   ]
  },
  {
   "cell_type": "code",
   "execution_count": 96,
   "metadata": {},
   "outputs": [],
   "source": [
    "cash = []\n",
    "           # [3,4,5,6,7,8,9]\n",
    "probablity = [1,3,6,7,6,3,1]"
   ]
  },
  {
   "cell_type": "code",
   "execution_count": 97,
   "metadata": {},
   "outputs": [],
   "source": [
    "def PrePareNextRoll(i,player, antiplayer, depth, step):\n",
    "    tmp = [Player(1, i, player.score), Player(2, antiplayer.position, antiplayer.score)]\n",
    "    tmp[0].score += i\n",
    "    DiracDice(tmp[1], tmp[0], depth)\n",
    "    player.universesWon += tmp[0].universesWon * np.uint64(probablity[step])\n",
    "    antiplayer.universesWon += tmp[1].universesWon * np.uint64(probablity[step])\n",
    "\n",
    "def DiracDice(player, antiplayer, depth = 0):\n",
    "    depth += 1\n",
    "    \n",
    "    cashfind = None\n",
    "    if len(cash) > 0:\n",
    "        cashfind = [x for x in cash if x[0] == player.score and x[1] == player.position and x[2] == antiplayer.score and x[3] == antiplayer.position]\n",
    "    if cashfind is not None and len(cashfind) > 0:\n",
    "        #print(\"found cash: {}\".format(cashfind))\n",
    "        player.universesWon += cashfind[0][4][0]\n",
    "        antiplayer.universesWon += cashfind[0][4][1]\n",
    "    else:\n",
    "        for i in range(3,10):\n",
    "            value = (player.position + i)%10\n",
    "            if value == 0:\n",
    "                value = 10\n",
    "            if (player.score + value>=21):\n",
    "                player.universesWon += np.uint64(probablity[i-3])\n",
    "            else:\n",
    "                PrePareNextRoll( value, player, antiplayer, depth, i-3)\n",
    "\n",
    "        cash.append([player.score, player.position, antiplayer.score, antiplayer.position,  [player.universesWon, antiplayer.universesWon]])\n",
    "        #print(\"cash: {}\".format(cash[-1]))    "
   ]
  },
  {
   "cell_type": "code",
   "execution_count": 98,
   "metadata": {},
   "outputs": [
    {
     "name": "stdout",
     "output_type": "stream",
     "text": [
      "444356092776315\n",
      "341960390180808\n"
     ]
    }
   ],
   "source": [
    "player1= Player(1, 4)\n",
    "player2= Player(2, 8)\n",
    "DiracDice(player1, player2)\n",
    "print(player1.universesWon)\n",
    "print(player2.universesWon)"
   ]
  },
  {
   "cell_type": "code",
   "execution_count": 99,
   "metadata": {},
   "outputs": [
    {
     "name": "stdout",
     "output_type": "stream",
     "text": [
      "153087536629019\n",
      "175731756652760\n"
     ]
    }
   ],
   "source": [
    "player1 = Player(1, 6)\n",
    "player2= Player(2, 1)\n",
    "DiracDice(player1, player2)\n",
    "print(player1.universesWon)\n",
    "print(player2.universesWon)"
   ]
  }
 ],
 "metadata": {
  "interpreter": {
   "hash": "b3ba2566441a7c06988d0923437866b63cedc61552a5af99d1f4fb67d367b25f"
  },
  "kernelspec": {
   "display_name": "Python 3.8.5 64-bit ('base': conda)",
   "language": "python",
   "name": "python3"
  },
  "language_info": {
   "codemirror_mode": {
    "name": "ipython",
    "version": 3
   },
   "file_extension": ".py",
   "mimetype": "text/x-python",
   "name": "python",
   "nbconvert_exporter": "python",
   "pygments_lexer": "ipython3",
   "version": "3.8.5"
  },
  "orig_nbformat": 4
 },
 "nbformat": 4,
 "nbformat_minor": 2
}
