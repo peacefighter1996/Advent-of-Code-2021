{
 "cells": [
  {
   "cell_type": "markdown",
   "metadata": {},
   "source": [
    "Assignement Day 3.1"
   ]
  },
  {
   "cell_type": "code",
   "execution_count": 197,
   "metadata": {},
   "outputs": [
    {
     "name": "stdout",
     "output_type": "stream",
     "text": [
      "[[0, 0], [0, 0], [0, 0], [0, 0], [0, 0], [0, 0], [0, 0], [0, 0], [0, 0], [0, 0], [0, 0], [0, 0]]\n",
      "[[521, 479], [520, 480], [502, 498], [509, 491], [479, 521], [503, 497], [486, 514], [488, 512], [501, 499], [507, 493], [516, 484], [491, 509]]\n",
      "000010110001\n",
      "177, 3918\n",
      "693486\n"
     ]
    }
   ],
   "source": [
    "def GetGammaDataList():\n",
    "    data = []\n",
    "    with open('./data/aoc3.txt') as f:\n",
    "        data = f.readlines()\n",
    "\n",
    "    # remove \\n from each row\n",
    "    data = [x.strip() for x in data]\n",
    "    return data\n",
    "data = GetGammaDataList()\n",
    "\n",
    "MostCommonBit=[]\n",
    "for i in range(0,len(data[0])):\n",
    "    MostCommonBit.append([0,0])\n",
    "print(MostCommonBit)\n",
    "# Count each bit in the string how many times it appears on the specific index\n",
    "for i in range(len(data)):\n",
    "    for j in range(len(data[i])):\n",
    "        if data[i][j] == '0':\n",
    "            MostCommonBit[j][0] += 1\n",
    "        if data[i][j] == '1':\n",
    "            MostCommonBit[j][1] += 1\n",
    "print(MostCommonBit)\n",
    "\n",
    "MostCommonByte = ''\n",
    "# for each list item in the MostCommonBit list, check if the first number is larger than the second number. If is as '1' to Gamma and '0' to Beta\n",
    "for i in range(len(MostCommonBit)):\n",
    "    if MostCommonBit[i][1] > MostCommonBit[i][0]:\n",
    "        MostCommonByte += '1'\n",
    "    else:\n",
    "        MostCommonByte += '0'\n",
    "\n",
    "#string to bit array\n",
    "print(MostCommonByte)\n",
    "MostCommonByte = list(MostCommonByte)\n",
    "MostCommonByte = [int(x) for x in MostCommonByte]\n",
    "\n",
    "Gamma = 0\n",
    "Epsilon = 0\n",
    "for i in range(len(MostCommonByte)):\n",
    "    if (MostCommonByte[i] == 1):\n",
    "        Gamma += 2**(len(MostCommonByte)-i-1)\n",
    "    else:\n",
    "        Epsilon += 2**(len(MostCommonByte)-i-1)\n",
    "\n",
    "print(f\"{Gamma}, {Epsilon}\")\n",
    "print(f\"{Gamma * Epsilon}\")"
   ]
  },
  {
   "cell_type": "markdown",
   "metadata": {},
   "source": [
    "Assigment 3.2"
   ]
  },
  {
   "cell_type": "code",
   "execution_count": 198,
   "metadata": {},
   "outputs": [
    {
     "name": "stdout",
     "output_type": "stream",
     "text": [
      "1000\n",
      "001110100101, 111000100110\n",
      "933, 3622\n",
      "3379326\n"
     ]
    }
   ],
   "source": [
    "def GetGammaDataList():\n",
    "    data = []\n",
    "    with open('./data/aoc3.txt') as f:\n",
    "        data = f.readlines()\n",
    "\n",
    "    # remove \\n from each row\n",
    "    data = [x.strip() for x in data]\n",
    "    return data\n",
    "data = GetGammaDataList()\n",
    "print(len(data))\n",
    "tempData = data.copy()\n",
    "for i in range(len(data[0])):\n",
    "    MostCommonBit=[0,0]\n",
    "    for j in range(len(tempData)):\n",
    "        if tempData[j][i] == '0':\n",
    "            MostCommonBit[0] += 1\n",
    "        if tempData[j][i] == '1':\n",
    "            MostCommonBit[1] += 1\n",
    "\n",
    "    \n",
    "    if(not(MostCommonBit[0] == 0 or MostCommonBit[1] == 0)):\n",
    "        most = []\n",
    "        toggle = MostCommonBit[1] >= MostCommonBit[0]\n",
    "        for j in range(len(tempData)):\n",
    "            if toggle == (tempData[j][i] == '1'):\n",
    "                most.append(tempData[j])\n",
    "                \n",
    "            if not toggle == (tempData[j][i] == '0'):\n",
    "                most.append(tempData[j])\n",
    "        tempData = most\n",
    "\n",
    "Oxygen = tempData[0]\n",
    "\n",
    "\n",
    "tempData = GetGammaDataList()\n",
    "for i in range(len(data[0])):\n",
    "    MostCommonBit=[0,0]\n",
    "    \n",
    "    for j in range(len(tempData)):\n",
    "        if tempData[j][i] == '0':\n",
    "            MostCommonBit[0] += 1\n",
    "        if tempData[j][i] == '1':\n",
    "            MostCommonBit[1] += 1\n",
    "\n",
    "    if(not(MostCommonBit[0] == 0 or MostCommonBit[1] == 0)):\n",
    "        least = []\n",
    "        toggle = MostCommonBit[1] < MostCommonBit[0]\n",
    "        for j in range(len(tempData)):\n",
    "            if toggle == (tempData[j][i] == '1'):\n",
    "                least.append(tempData[j])\n",
    "                \n",
    "            if not toggle == (tempData[j][i] == '0'):\n",
    "                least.append(tempData[j])\n",
    "        tempData = least\n",
    "\n",
    "Co2 = tempData[0]\n",
    "\n",
    "\n",
    "# bit string to int\n",
    "def bit_string_to_int(bit_string):\n",
    "    return \n",
    "\n",
    "\n",
    "print(f\"{Oxygen}, {Co2}\")\n",
    "print(f\"{int(Oxygen, 2)}, {int(Co2, 2)}\")\n",
    "print(f\"{int(Oxygen, 2) * int(Co2, 2)}\")\n",
    "            \n",
    "\n"
   ]
  }
 ],
 "metadata": {
  "interpreter": {
   "hash": "b01a751e6708595f4741f9b5d8bbef81a532eceb9c15ba618fc11747fd589442"
  },
  "kernelspec": {
   "display_name": "Python 3.9.9 64-bit (windows store)",
   "language": "python",
   "name": "python3"
  },
  "language_info": {
   "codemirror_mode": {
    "name": "ipython",
    "version": 3
   },
   "file_extension": ".py",
   "mimetype": "text/x-python",
   "name": "python",
   "nbconvert_exporter": "python",
   "pygments_lexer": "ipython3",
   "version": "3.8.5"
  },
  "orig_nbformat": 4
 },
 "nbformat": 4,
 "nbformat_minor": 2
}
