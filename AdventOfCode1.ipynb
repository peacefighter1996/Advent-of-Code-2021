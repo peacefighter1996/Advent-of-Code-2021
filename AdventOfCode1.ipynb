{
 "cells": [
  {
   "cell_type": "code",
   "execution_count": 191,
   "metadata": {},
   "outputs": [],
   "source": [
    "data = []\n",
    "# read each row for the data.txt and store it in a list\n",
    "with open('./data/aoc1.txt') as f:\n",
    "    data = f.readlines()\n",
    "    # remove \\n from each row\n",
    "    data = [x.strip() for x in data]\n",
    "\n",
    "# loop through the list and change string to int\n",
    "for i in range(len(data)):\n",
    "    data[i] = int(data[i])"
   ]
  },
  {
   "cell_type": "markdown",
   "metadata": {},
   "source": [
    "Assignement Day 1.1"
   ]
  },
  {
   "cell_type": "code",
   "execution_count": 192,
   "metadata": {},
   "outputs": [],
   "source": [
    "# function that checks if the first number is larger than the sencond number\n",
    "def check_larger(first, second):\n",
    "    if first > second:\n",
    "        return True\n",
    "    else:\n",
    "        return False"
   ]
  },
  {
   "cell_type": "code",
   "execution_count": 193,
   "metadata": {},
   "outputs": [
    {
     "name": "stdout",
     "output_type": "stream",
     "text": [
      "1559\n"
     ]
    }
   ],
   "source": [
    "count = 0\n",
    "for x in range (1, len(data)):\n",
    "    # split the row into a list\n",
    "    if (check_larger(data[x], data[x-1])):\n",
    "        count += 1\n",
    "\n",
    "print(count)"
   ]
  },
  {
   "cell_type": "markdown",
   "metadata": {},
   "source": [
    "Assignement Day 1.2"
   ]
  },
  {
   "cell_type": "code",
   "execution_count": 194,
   "metadata": {},
   "outputs": [
    {
     "name": "stdout",
     "output_type": "stream",
     "text": [
      "1600\n"
     ]
    }
   ],
   "source": [
    "# Sum 3 numbers\n",
    "def sum_three(first, second, third):\n",
    "    return first + second + third\n",
    "\n",
    "noise_reduction_list = []\n",
    "\n",
    "# loop through data and add the sum of the three numbers to the noise reduction list\n",
    "for x in range(0, len(data)-2):\n",
    "    noise_reduction_list.append(sum_three(data[x], data[x+1], data[x+2]))\n",
    "\n",
    "# loop through the noise reduction list and check if the first number is larger than the second number\n",
    "count = 0\n",
    "for x in range(1, len(noise_reduction_list)):\n",
    "    if (check_larger(noise_reduction_list[x], noise_reduction_list[x-1])):\n",
    "        count += 1\n",
    "\n",
    "print(count)\n"
   ]
  }
 ],
 "metadata": {
  "interpreter": {
   "hash": "b01a751e6708595f4741f9b5d8bbef81a532eceb9c15ba618fc11747fd589442"
  },
  "kernelspec": {
   "display_name": "Python 3.9.9 64-bit (windows store)",
   "language": "python",
   "name": "python3"
  },
  "language_info": {
   "codemirror_mode": {
    "name": "ipython",
    "version": 3
   },
   "file_extension": ".py",
   "mimetype": "text/x-python",
   "name": "python",
   "nbconvert_exporter": "python",
   "pygments_lexer": "ipython3",
   "version": "3.8.5"
  },
  "orig_nbformat": 4
 },
 "nbformat": 4,
 "nbformat_minor": 2
}
