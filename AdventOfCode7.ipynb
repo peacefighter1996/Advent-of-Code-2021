{
 "cells": [
  {
   "cell_type": "markdown",
   "metadata": {},
   "source": [
    "Assignment 7.1"
   ]
  },
  {
   "cell_type": "code",
   "execution_count": 39,
   "metadata": {},
   "outputs": [
    {
     "name": "stdout",
     "output_type": "stream",
     "text": [
      "[383, 352254]\n"
     ]
    },
    {
     "data": {
      "image/png": "[encoded data removed]",
      "text/plain": [
       "<Figure size 432x288 with 1 Axes>"
      ]
     },
     "metadata": {
      "needs_background": "light"
     },
     "output_type": "display_data"
    }
   ],
   "source": [
    "\n",
    "import matplotlib.pyplot as plt\n",
    "\n",
    "def GetPostions(dataSet):\n",
    "    data = []\n",
    "    with open(dataSet) as f:\n",
    "        data = f.readlines()\n",
    "    \n",
    "    data = data[0].strip().split(',')\n",
    "\n",
    "    values = []\n",
    "    for i in range(len(data)):\n",
    "        values.append(int(data[i]))\n",
    "\n",
    "    return values\n",
    "\n",
    "postions = GetPostions('./data/aoc7.txt')\n",
    "\n",
    "def calculateFuelConsumption(postions):\n",
    "    consumption = []\n",
    "    for i in range(min(postions),max(postions)):\n",
    "        fuel = 0\n",
    "        for j in postions:\n",
    "            # add absolut value of the difference\n",
    "            fuel += abs(j-i)\n",
    "        consumption.append([i,fuel])\n",
    "    return consumption        \n",
    "\n",
    "fuelConsumption = calculateFuelConsumption(postions)\n",
    "\n",
    "# find minimum fuel consumption\n",
    "def findMinFuelConsumption(fuelConsumption):\n",
    "    minFuel = fuelConsumption[0][1]\n",
    "    minFuelIndex = 0\n",
    "    for i in range(len(fuelConsumption)):\n",
    "        if fuelConsumption[i][1] < minFuel:\n",
    "            minFuel = fuelConsumption[i][1]\n",
    "            minFuelIndex = i\n",
    "    return minFuelIndex\n",
    "\n",
    "print(fuelConsumption[ findMinFuelConsumption(fuelConsumption)])\n",
    "\n",
    "\n",
    "# split the data into x and y\n",
    "\n",
    "def PlotFuelConsumption(fuelConsumption):\n",
    "    x = []\n",
    "    y = []\n",
    "    for i in range(len(fuelConsumption)):\n",
    "        x.append(fuelConsumption[i][0])\n",
    "        y.append(fuelConsumption[i][1])\n",
    "\n",
    "    plt.plot(x,y)\n",
    "    plt.show()\n",
    "\n",
    "PlotFuelConsumption(fuelConsumption)\n",
    "\n"
   ]
  },
  {
   "cell_type": "markdown",
   "metadata": {},
   "source": [
    "Assignment 7.2"
   ]
  },
  {
   "cell_type": "code",
   "execution_count": 41,
   "metadata": {},
   "outputs": [
    {
     "name": "stdout",
     "output_type": "stream",
     "text": [
      "[504, 99053143]\n"
     ]
    },
    {
     "data": {
      "image/png": "[encoded data removed]",
      "text/plain": [
       "<Figure size 432x288 with 1 Axes>"
      ]
     },
     "metadata": {
      "needs_background": "light"
     },
     "output_type": "display_data"
    }
   ],
   "source": [
    "def calculateNewFuelConsumption(postions):\n",
    "    consumptionAtDistance = []\n",
    "    # Create a list of all the fuel consumption\n",
    "    for i in range(0,max(postions)-min(postions)+1):\n",
    "        consumptionAtDistance.append(sum(range(i+1)))\n",
    "    consumption = []\n",
    "\n",
    "    for i in range(min(postions),max(postions)):\n",
    "        fuel = 0\n",
    "        for j in postions:\n",
    "            \n",
    "            distance = abs(j-i)\n",
    "            fuel += consumptionAtDistance[distance]\n",
    "        consumption.append([i,fuel])\n",
    "    return consumption  \n",
    "\n",
    "postions = GetPostions('./data/aoc7.txt')\n",
    "fuelConsumption = calculateNewFuelConsumption(postions)\n",
    "print(fuelConsumption[ findMinFuelConsumption(fuelConsumption)])\n",
    "PlotFuelConsumption(fuelConsumption)\n",
    "\n",
    "\n"
   ]
  }
 ],
 "metadata": {
  "interpreter": {
   "hash": "b01a751e6708595f4741f9b5d8bbef81a532eceb9c15ba618fc11747fd589442"
  },
  "kernelspec": {
   "display_name": "Python 3.9.9 64-bit (windows store)",
   "language": "python",
   "name": "python3"
  },
  "language_info": {
   "codemirror_mode": {
    "name": "ipython",
    "version": 3
   },
   "file_extension": ".py",
   "mimetype": "text/x-python",
   "name": "python",
   "nbconvert_exporter": "python",
   "pygments_lexer": "ipython3",
   "version": "3.8.5"
  },
  "orig_nbformat": 4
 },
 "nbformat": 4,
 "nbformat_minor": 2
}
