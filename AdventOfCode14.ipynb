{
 "cells": [
  {
   "cell_type": "markdown",
   "metadata": {},
   "source": [
    "Assignment 14"
   ]
  },
  {
   "cell_type": "code",
   "execution_count": 90,
   "metadata": {},
   "outputs": [],
   "source": [
    "import numpy as np\n",
    "import cv2\n",
    "import itertools\n",
    "import collections\n",
    " \n",
    "def GetTransforms(dataset):\n",
    "    # Get data from dataset\n",
    "    data = []\n",
    "    with open(dataset, 'r') as f:\n",
    "        data = f.readlines()\n",
    "    # strip the new line character\n",
    "    data = [x.strip() for x in data]\n",
    "\n",
    "    beginSequence = data[0]\n",
    "\n",
    "    transforms = {}\n",
    "    for i in range(2, len(data)):\n",
    "        split = data[i].split(' -> ')\n",
    "        if len(split) == 2:\n",
    "            base = split[0]\n",
    "            insert = split[1]\n",
    "            transforms[hash(base)] = insert\n",
    "\n",
    "    \n",
    "    return beginSequence, transforms \n",
    "\n",
    "def PerformPolimarize(base, transforms, count):\n",
    "    # Perforamce the polimarization\n",
    "    if count == 0:\n",
    "        return base\n",
    "    else:\n",
    "        newBase = ''\n",
    "        for i in range(1, len(base)):\n",
    "            #print(transforms[j].base, transforms[j].insert)\n",
    "            newBase += base[i-1] + transforms[hash(base[i-1:i+1])]\n",
    "                    \n",
    "        newBase += base[-1]\n",
    "    \n",
    "        #print(f'polemer lenght: {len(newBase)}')\n",
    "        #print(f'steps to do: {count}')\n",
    "        return PerformPolimarize(newBase, transforms, count-1) \n",
    "\n",
    "\n",
    "    \n",
    "            \n"
   ]
  },
  {
   "cell_type": "code",
   "execution_count": 91,
   "metadata": {},
   "outputs": [
    {
     "name": "stdout",
     "output_type": "stream",
     "text": [
      "FNFPPNKPPHSOKFFHOFOC\n",
      "FONSFHPNPKNVKKPNPHHFSOOCKCFBFOHPOCFCOCC\n",
      "{'N': 2885, 'S': 530, 'H': 2324, 'P': 1137, 'C': 3505, 'F': 2454, 'O': 1431, 'K': 840, 'B': 2253, 'V': 2098}\n",
      "2975\n"
     ]
    }
   ],
   "source": [
    "start, transforms = GetTransforms('./data/aoc14.txt')\n",
    "print(start)\n",
    "print(PerformPolimarize(start, transforms, 1))\n",
    "\n",
    "newPolimer = PerformPolimarize(start, transforms, 10)\n",
    "\n",
    "# find all the unique characters\n",
    "unique = set(newPolimer)\n",
    "\n",
    "# Count the number of times each character appears\n",
    "counts = {}\n",
    "for i in unique:\n",
    "    counts[i] = newPolimer.count(i)\n",
    "print(counts)\n",
    "\n",
    "# Find the character with the lowest count\n",
    "minCount = min(counts.values())\n",
    "\n",
    "# Find the character with the highest count\n",
    "maxCount = max(counts.values())\n",
    "\n",
    "print( maxCount - minCount)\n",
    "\n"
   ]
  },
  {
   "cell_type": "code",
   "execution_count": 92,
   "metadata": {},
   "outputs": [],
   "source": [
    "# create all return cominations of a cominatiiion of x characters\n",
    "def GetCombinations(x, charcterset):\n",
    "    combs = []\n",
    "    print(characterset)\n",
    "    for i in range(2, x+2):\n",
    "        print(i)\n",
    "        combs += list(itertools.product(charcterset, repeat= i))\n",
    "    return combs\n",
    "\n",
    "def PreComputedTransforms(base,transforms, count =1):\n",
    "\n",
    "    return PerformPolimarize(base, transforms, count)[:-1]\n",
    "    \n",
    "\n",
    "\n",
    "def PerformAcceleratedPolimarize(base, preComputedTransforms, transforms, count, maxCharCount, printData =True):\n",
    "    # Perforamce the polimarization\n",
    "    if count == 0:\n",
    "        return base\n",
    "    else:\n",
    "        newBase = ''\n",
    "        # split base into chunks of maxCharCount if possible\n",
    "        chunks = []\n",
    "        for i in range(0, len(base), maxCharCount):\n",
    "            if i + maxCharCount > len(base):\n",
    "                chunks.append(base[i:])\n",
    "            else:\n",
    "                chunks.append( base[i:i+maxCharCount+1])\n",
    "        #print(base)\n",
    "        #print(chunks)\n",
    "        #print(f'Chucks: {len(chunks)}')\n",
    "        persentage = 0\n",
    "\n",
    "        for i in range(0,len(chunks)):\n",
    "            try: \n",
    "                newBase += preComputedTransforms[hash(chunks[i])]\n",
    "            except:\n",
    "                newBase += PerformPolimarize(chunks[i], transforms, 1)[:-1]\n",
    "            if ((i+1) % 100 == 0 and printData):\n",
    "                print(f'{(i+1)/len(chunks)}%')\n",
    "        newBase += base[-1]\n",
    "        if(printData):\n",
    "            print(f'polemer lenght: {len(newBase)}')\n",
    "            print(f'steps to do: {count}')\n",
    "        return PerformAcceleratedPolimarize(newBase, preComputedTransforms, transforms, count-1, maxCharCount, printData)\n",
    "\n",
    "def PerformDepthAcceleratedPolimarize(base, preComputedTransforms, printData =True):\n",
    "    # chucks is a numpy array if intgers of lenght of base +1\n",
    "    chunks = np.zeros(len(base)-1, dtype= np.int64)\n",
    "    #print(base)\n",
    "    for i in range(0,len(base)-1):\n",
    "        #print(base[i:i+2])\n",
    "        chunks[i]= hash(base[i:i+2])\n",
    "        if ((i+1) % 100 == 0 and printData):\n",
    "                print(f'{(i+1)/len(base)*100}%')\n",
    "        \n",
    "    return   chunks \n",
    "\n",
    "\n"
   ]
  },
  {
   "cell_type": "code",
   "execution_count": 93,
   "metadata": {},
   "outputs": [
    {
     "name": "stdout",
     "output_type": "stream",
     "text": [
      "NSHPCFOKBV\n",
      "2\n",
      "3\n",
      "4\n",
      "5\n",
      "polemer lenght: 39\n",
      "steps to do: 5\n",
      "polemer lenght: 77\n",
      "steps to do: 4\n",
      "polemer lenght: 153\n",
      "steps to do: 3\n",
      "polemer lenght: 305\n",
      "steps to do: 2\n",
      "polemer lenght: 609\n",
      "steps to do: 1\n",
      "{'S': 18, 'N': 70, 'H': 58, 'P': 45, 'C': 129, 'F': 103, 'O': 44, 'K': 44, 'B': 67, 'V': 31}\n",
      "111\n"
     ]
    }
   ],
   "source": [
    "start, transforms = GetTransforms('./data/aoc14.txt')\n",
    "\n",
    "#set to string \n",
    "tmpset = set(newPolimer)\n",
    "characterset = ''\n",
    "for i in tmpset:\n",
    "    characterset += i\n",
    "\n",
    "preComputed = {}\n",
    "charLenght = 4\n",
    "for i in GetCombinations(charLenght, charcterset=characterset):\n",
    "    # combine to string \n",
    "    string = ''\n",
    "    for j in i:\n",
    "        string += j\n",
    "    preComputed[hash(string)] = PreComputedTransforms(string, transforms)\n",
    "    #print(string,preComputed[hash(string)])\n",
    "#print(preComputed)\n",
    "\n",
    "newPolimer =PerformAcceleratedPolimarize(start, preComputed, transforms,5, charLenght)\n",
    "\n",
    "# find all the unique characters\n",
    "unique = set(newPolimer)\n",
    "\n",
    "# Count the number of times each character appears\n",
    "counts = {}\n",
    "for i in unique:\n",
    "    counts[i] = newPolimer.count(i)\n",
    "print(counts)\n",
    "\n",
    "# Find the character with the lowest count\n",
    "minCount = min(counts.values())\n",
    "\n",
    "# Find the character with the highest count\n",
    "maxCount = max(counts.values())\n",
    "\n",
    "print( maxCount - minCount)"
   ]
  },
  {
   "cell_type": "code",
   "execution_count": 94,
   "metadata": {},
   "outputs": [
    {
     "name": "stdout",
     "output_type": "stream",
     "text": [
      "SNHPCFOKBV\n",
      "2\n",
      "Start Transform\n"
     ]
    }
   ],
   "source": [
    "start, transforms = GetTransforms('./data/aoc14.txt')\n",
    "\n",
    "#set to string \n",
    "tmpset = set(newPolimer)\n",
    "characterset = ''\n",
    "for i in tmpset:\n",
    "    characterset += i\n",
    "\n",
    "\n",
    "#preComputedDepth ={}\n",
    "cobinations = GetCombinations(1, charcterset=characterset)\n",
    "for i in range(0, len(cobinations)):\n",
    "\n",
    "    # combine to string \n",
    "    string = ''\n",
    "    for j in cobinations[i]:\n",
    "        string += j\n",
    "    #preComputedDepth[np.int64(hash(string))] = PerformAcceleratedPolimarize(string, preComputed, transforms, 20, charLenght, False)[:-1]\n",
    "print(\"Start Transform\")\n",
    "newPolimer = start\n",
    "# round 1 to 20\n",
    "if(False):\n",
    "    tmp =PerformDepthAcceleratedPolimarize(newPolimer, preComputedDepth, True)\n",
    "    print(tmp)\n",
    "    tmpPolymer = ''\n",
    "    for i in range(0,len(tmp)):\n",
    "        tmpPolymer += preComputedDepth[tmp[i]]\n",
    "    tmpPolymer += newPolimer[-1]\n",
    "    newPolimer = tmpPolymer\n",
    "\n",
    "\n",
    "    # round 21 to 40\n",
    "    tmp =PerformDepthAcceleratedPolimarize(newPolimer, preComputedDepth, True)\n",
    "\n",
    "\n"
   ]
  },
  {
   "cell_type": "code",
   "execution_count": 99,
   "metadata": {},
   "outputs": [
    {
     "name": "stdout",
     "output_type": "stream",
     "text": [
      "{}\n",
      "{'S', 'N', 'H', 'P', 'C', 'F', 'O', 'K', 'B', 'V'}\n"
     ]
    }
   ],
   "source": [
    "# get all the unique integers\n",
    "#uniqueCombinations = collections.Counter(tmp)\n",
    "uniqueCharacters = {'S': 0, 'N': 0, 'H': 0, 'P': 0, 'C': 0, 'F': 0, 'O': 0, 'K': 0, 'B': 0, 'V': 0}\n",
    "uniqueCharacters[start[-1]] += 1\n",
    "\n",
    "key_list = list(preComputedDepth.keys())\n",
    "val_list = list(preComputedDepth.values())\n",
    "\n",
    "uniqueCharacters_keys = list(uniqueCharacters.keys())\n",
    "\n",
    "combo = {}\n",
    "collection = {}\n",
    "i=0\n",
    "for i in range(len(preComputedDepth)):\n",
    "    collection = collections.Counter(val_list[i])\n",
    "    for j in uniqueCharacters_keys:\n",
    "         uniqueCharacters[j] += collection[j] * uniqueCombinations[key_list[i]] \n",
    "\n",
    "print(combo)\n",
    "\n",
    "\n",
    "# Count the number of times each integer appears\n",
    "\n",
    "\n",
    "print(unique)"
   ]
  },
  {
   "cell_type": "code",
   "execution_count": 100,
   "metadata": {},
   "outputs": [
    {
     "name": "stdout",
     "output_type": "stream",
     "text": [
      "3015383850689\n"
     ]
    }
   ],
   "source": [
    "minCount = min(uniqueCharacters.values())\n",
    "\n",
    "# Find the character with the highest count\n",
    "maxCount = max(uniqueCharacters.values())\n",
    "\n",
    "print( maxCount - minCount)"
   ]
  },
  {
   "cell_type": "code",
   "execution_count": null,
   "metadata": {},
   "outputs": [
    {
     "name": "stdout",
     "output_type": "stream",
     "text": [
      "[-9181710493297235555, -8647714121679725675, -8495393806868105532, -8487504442577322016, -8461195917661475766, -8028861853570068757, -7760669381403001234, -7719442797858719051, -7504008472732099181, -7456637135727214404, -7370022017645794479, -7213060820683071364, -7209054706945703578, -7006983167772025274, -6972224591416811530, -6629648645311243928, -6627035686185390017, -6607492453512294622, -6447248876938319060, -6351544035892720342, -6329667256536643912, -5901515212886038978, -5657987433743134714, -5516604111417745442, -5122986246781213946, -4725286663324112899, -4560371000421923108, -4492256626722576859, -4384871673408042328, -3604784015250324599, -3531459626560908588, -3075267825608387518, -2944952641993352179, -2790585838668869428, -2607574506359171166, -2137777081058470669, -2066788464915931270, -1939765976594439364, -1928496765913600971, -1842378536741254029, -1724812312876352524, -1494258228497584496, -1298533491985746614, -1133609583968170647, -1098385311010891958, -1091353637456610440, -988117455644849142, -905059323662806327, -807753840459776385, -618024370368426074, -38569190011709013, 722608798484836364, 1086880484987286742, 1103777297714728397, 1439881587504106327, 1609304691156154878, 1749757716784290542, 1753858594322718132, 1763870847717261087, 1878580125088914277, 1924642258717815281, 1948778977017724687, 1977071926748186079, 2468282537823503350, 2538110081920455774, 2544593179686450883, 3339458962141407846, 3503568053547137696, 3721161924099922748, 3764367550356856772, 3924928048966241069, 4034457263684369193, 4441120028965884003, 4672798624179970737, 5233658178552135617, 5349968201479829792, 5382976901316181447, 5424787697909687246, 5557547537955519554, 6223875739034754086, 6322642534871570250, 6407798792343958281, 6924897077940835737, 6966735369350035069, 7360582007826518090, 7377301373779427099, 7413068061453933104, 7625410808611955872, 7784616278204110331, 7847962937807154197, 7969456601428592073, 8075303274794724831, 8119204450821108535, 8230575378994657741, 8327733947558232754, 8413202805655222048, 8473773282550848353, 8645824958451498062, 9056035065809509380, 9082272376472679470]\n"
     ]
    }
   ],
   "source": [
    "combos = list(preComputedDepth.keys())\n",
    "combos.sort()\n",
    "print(combos)"
   ]
  }
 ],
 "metadata": {
  "interpreter": {
   "hash": "b3ba2566441a7c06988d0923437866b63cedc61552a5af99d1f4fb67d367b25f"
  },
  "kernelspec": {
   "display_name": "Python 3.8.5 64-bit ('base': conda)",
   "language": "python",
   "name": "python3"
  },
  "language_info": {
   "codemirror_mode": {
    "name": "ipython",
    "version": 3
   },
   "file_extension": ".py",
   "mimetype": "text/x-python",
   "name": "python",
   "nbconvert_exporter": "python",
   "pygments_lexer": "ipython3",
   "version": "3.8.8"
  },
  "orig_nbformat": 4
 },
 "nbformat": 4,
 "nbformat_minor": 2
}
