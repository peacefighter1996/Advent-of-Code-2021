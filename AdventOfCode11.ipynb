{
 "cells": [
  {
   "cell_type": "markdown",
   "metadata": {},
   "source": [
    "Assignment 11"
   ]
  },
  {
   "cell_type": "code",
   "execution_count": 11,
   "metadata": {},
   "outputs": [
    {
     "name": "stdout",
     "output_type": "stream",
     "text": [
      "[[3 1 1 3 2 8 4 8 8 6]\n",
      " [2 8 5 1 8 7 6 1 4 4]\n",
      " [2 7 7 4 6 6 4 4 8 4]\n",
      " [6 7 1 5 1 1 2 5 7 8]\n",
      " [7 1 4 6 2 7 2 1 5 3]\n",
      " [6 2 5 6 6 5 6 3 6 7]\n",
      " [3 1 4 8 6 6 6 2 4 5]\n",
      " [3 8 5 7 4 4 6 5 2 8]\n",
      " [7 3 2 2 4 2 2 8 3 3]\n",
      " [8 1 5 2 1 7 5 1 6 8]]\n",
      "flashcount : 1705\n"
     ]
    }
   ],
   "source": [
    "import numpy as np\n",
    "import cv2\n",
    "\n",
    "\n",
    "# Get the area of the image of from the document\n",
    "def GetBeginFlashState(dataset):\n",
    "    data = []\n",
    "    with open(dataset, 'r') as f:\n",
    "        data = f.readlines()\n",
    "    # strip the new line character\n",
    "    data = [x.strip() for x in data]\n",
    "\n",
    "    # for each character in the data get int value\n",
    "    for i in range(len(data)):\n",
    "        data[i] = [int(x) for x in data[i]]\n",
    "\n",
    "    return np.array(data, dtype=np.uint8)\n",
    "\n",
    "\n",
    "\n",
    "def SimulateFlashesAndCount(data, simulation_time, breakTime):\n",
    "    count = 0\n",
    "    for i in range(simulation_time):\n",
    "        # subtract 1 to each pixel\n",
    "        dataNext = data + 1\n",
    "        flash_mask = np.zeros(data.shape, dtype=np.uint8)\n",
    "        # check all pixels if one is 10. If so, add 1 to their neighbours\n",
    "        newflash = True\n",
    "        while newflash:\n",
    "            newflash = False\n",
    "            for y in range(data.shape[0]):\n",
    "                for x in range(data.shape[1]):\n",
    "                    if dataNext[y][x] == 10 and flash_mask[y][x] == 0:\n",
    "                        #print(\"Flash at: \", x, y)\n",
    "                        flash_mask[y][x] = 1\n",
    "                        dataNext[y][x] += 1\n",
    "                        newflash = True\n",
    "                        for yy in range(max(y-1,0), min(y+2, data.shape[0])):\n",
    "                            for xx in range(max(x-1,0), min(x+2, data.shape[1])):\n",
    "                                if dataNext[yy][xx] < 10:\n",
    "                                    dataNext[yy][xx] += 1\n",
    "\n",
    "        \n",
    "        for y in range(data.shape[0]):\n",
    "            for x in range(data.shape[1]):\n",
    "                if dataNext[y][x] >=10:\n",
    "                    dataNext[y][x] = 0\n",
    "\n",
    "        count += flash_mask.sum()   \n",
    "        data = dataNext\n",
    "\n",
    "        #print(\"Simulation time: \", i)\n",
    "        #print(data)\n",
    "        if np.sum(data) < breakTime:\n",
    "            count += 1\n",
    "        # if breaktime is greater than 0 show the image for breaktime miliseconds\n",
    "        if (breakTime>0):\n",
    "            Image = np.zeros((data.shape[0]*50,data.shape[1]*50), dtype=np.uint8)\n",
    "            for y in range(data.shape[0]): \n",
    "                for x in range(data.shape[1]):\n",
    "                    if data[y][x] == 0:\n",
    "                        Image[y*50:(y+1)*50, x*50:(x+1)*50] = 255\n",
    "            #cv2.imwrite(f'./images/aoc11_[{i}].bmp', Image)\n",
    "            cv2.imshow('image',Image)\n",
    "            cv2.waitKey(breakTime)\n",
    "    return count\n",
    "            \n",
    "data = GetBeginFlashState('./data/aoc11.txt')\n",
    "print(data)\n",
    "\n",
    "count = SimulateFlashesAndCount(data, 100,0)\n",
    "\n",
    "print(f'flashcount : {count}')\n"
   ]
  },
  {
   "cell_type": "code",
   "execution_count": 12,
   "metadata": {},
   "outputs": [
    {
     "name": "stdout",
     "output_type": "stream",
     "text": [
      "stepCount : 265\n"
     ]
    },
    {
     "name": "stderr",
     "output_type": "stream",
     "text": [
      "<ipython-input-12-385e47465e71>:46: RuntimeWarning: divide by zero encountered in true_divide\n",
      "  Image[y*50:(y+1)*50, x*50:(x+1)*50]  = data[y][x] *(255/ data.max() )\n",
      "<ipython-input-12-385e47465e71>:46: RuntimeWarning: invalid value encountered in multiply\n",
      "  Image[y*50:(y+1)*50, x*50:(x+1)*50]  = data[y][x] *(255/ data.max() )\n"
     ]
    }
   ],
   "source": [
    "def SimulateUntilSyncronized(data, simulation_time, breakTime):\n",
    "    count = 0\n",
    "    while True:\n",
    "        # subtract 1 to each pixel\n",
    "        dataNext = data + 1\n",
    "        flash_mask = np.zeros(data.shape, dtype=np.uint8)\n",
    "        # check all pixels if one is 10. If so, add 1 to their neighbours\n",
    "        newflash = True\n",
    "        while newflash:\n",
    "            newflash = False\n",
    "            for y in range(data.shape[0]):\n",
    "                for x in range(data.shape[1]):\n",
    "                    if dataNext[y][x] == 10 and flash_mask[y][x] == 0:\n",
    "                        #print(\"Flash at: \", x, y)\n",
    "                        flash_mask[y][x] = 1\n",
    "                        dataNext[y][x] += 1\n",
    "                        newflash = True\n",
    "                        for yy in range(max(y-1,0), min(y+2, data.shape[0])):\n",
    "                            for xx in range(max(x-1,0), min(x+2, data.shape[1])):\n",
    "                                if dataNext[yy][xx] < 10:\n",
    "                                    dataNext[yy][xx] += 1\n",
    "\n",
    "        \n",
    "        for y in range(data.shape[0]):\n",
    "            for x in range(data.shape[1]):\n",
    "                if dataNext[y][x] >=10:\n",
    "                    dataNext[y][x] = 0\n",
    "\n",
    "        count += 1  \n",
    "        data = dataNext\n",
    "        \n",
    "        #print(\"Simulation time: \", i)\n",
    "        #print(data)\n",
    "        # if breaktime is greater than 0 show the image for breaktime miliseconds\n",
    "        if (breakTime>0):\n",
    "            Image = np.zeros((data.shape[0]*50,data.shape[1]*50), dtype=np.uint8)\n",
    "            for y in range(data.shape[0]): \n",
    "                for x in range(data.shape[1]):\n",
    "                    if data[y][x] == 0:\n",
    "                        Image[y*50:(y+1)*50, x*50:(x+1)*50] = 255\n",
    "            #cv2.imwrite(f'./images/aoc11_[{i}].bmp', Image)\n",
    "            cv2.imshow('image',Image)\n",
    "            Image = np.zeros((data.shape[0]*50,data.shape[1]*50), dtype=np.uint8)\n",
    "            for y in range(data.shape[0]): \n",
    "                for x in range(data.shape[1]):\n",
    "                    Image[y*50:(y+1)*50, x*50:(x+1)*50]  = data[y][x] *(255/ data.max() )\n",
    "            #cv2.imwrite(f'./images/aoc11_[{i}].bmp', Image)\n",
    "            cv2.imshow('image2',Image)\n",
    "\n",
    "            cv2.waitKey(breakTime)\n",
    "        if flash_mask.sum() == flash_mask.shape[0]*flash_mask.shape[1]:\n",
    "            break\n",
    "    return count\n",
    "\n",
    "\n",
    "count = SimulateUntilSyncronized(data, 100, 100)  \n",
    "\n",
    "print(f'stepCount : {count}')"
   ]
  }
 ],
 "metadata": {
  "interpreter": {
   "hash": "b3ba2566441a7c06988d0923437866b63cedc61552a5af99d1f4fb67d367b25f"
  },
  "kernelspec": {
   "display_name": "Python 3.8.5 64-bit ('base': conda)",
   "language": "python",
   "name": "python3"
  },
  "language_info": {
   "codemirror_mode": {
    "name": "ipython",
    "version": 3
   },
   "file_extension": ".py",
   "mimetype": "text/x-python",
   "name": "python",
   "nbconvert_exporter": "python",
   "pygments_lexer": "ipython3",
   "version": "3.8.8"
  },
  "orig_nbformat": 4
 },
 "nbformat": 4,
 "nbformat_minor": 2
}
