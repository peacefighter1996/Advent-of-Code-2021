{
 "cells": [
  {
   "cell_type": "markdown",
   "metadata": {},
   "source": [
    "Assignment 9"
   ]
  },
  {
   "cell_type": "code",
   "execution_count": 3,
   "metadata": {},
   "outputs": [
    {
     "name": "stdout",
     "output_type": "stream",
     "text": [
      "[[0 0 0 ... 0 0 0]\n",
      " [0 0 0 ... 0 0 0]\n",
      " [0 0 0 ... 0 0 0]\n",
      " ...\n",
      " [0 0 0 ... 0 0 0]\n",
      " [0 0 0 ... 0 0 0]\n",
      " [0 0 0 ... 0 0 0]]\n",
      "588\n"
     ]
    },
    {
     "data": {
      "text/plain": [
       "True"
      ]
     },
     "execution_count": 3,
     "metadata": {},
     "output_type": "execute_result"
    }
   ],
   "source": [
    "import numpy as np\n",
    "import cv2\n",
    "\n",
    "\n",
    "# Minimum point checks if in a 3x3 grid the center value is less than the values left, right, top and bottom\n",
    "def IsMinimumPoint(area):\n",
    "    if area[1, 1] < area[0, 1] and area[1, 1] < area[2, 1] and area[1, 1] < area[1, 0] and area[1, 1] < area[1, 2]:\n",
    "        return True\n",
    "    else:\n",
    "        return False\n",
    "\n",
    "\n",
    "# Get the area of the image of from the document\n",
    "def GetArea(dataset):\n",
    "    data = []\n",
    "    with open(dataset, 'r') as f:\n",
    "        data = f.readlines()\n",
    "    \n",
    "    # strip the new line character\n",
    "    data = [x.strip() for x in data]\n",
    "\n",
    "\n",
    "    \n",
    "\n",
    "    return data\n",
    "\n",
    "data = GetArea('./data/aoc9.txt')\n",
    "\n",
    "\n",
    "# create a np array of value 10 \n",
    "area = np.full((len(data)+2, len(data[0])+2), 9, dtype=np.uint8)\n",
    "\n",
    "areaclean = np.full((len(data), len(data[0])), 0, dtype=np.uint8)\n",
    "\n",
    "# add the data to the center area\n",
    "for i in range(len(data)):\n",
    "    for j in range(len(data[i])):\n",
    "        area[i+1, j+1] = int(data[i][j])\n",
    "for i in range(len(data)):\n",
    "    for j in range(len(data[i])):\n",
    "        areaclean[i, j] = int(data[i][j])\n",
    "\n",
    "# use the minimum point to create a new array \n",
    "Image = np.zeros((len(area ), len(area[0])), dtype=np.uint8)\n",
    "\n",
    "for i in range(1,len(area)):\n",
    "    for j in range(1,len(area[i])):\n",
    "        if IsMinimumPoint(area[i-1:i+2, j-1:j+2]):\n",
    "            Image[i, j] = area[i, j] +1\n",
    "            #print(f\"{i}, {j}\")\n",
    "            #print(data[i-1:i+2, j-1:j+2])\n",
    "            #print(Image[i-1:i+2, j-1:j+2])\n",
    "\n",
    "\n",
    "\n",
    "print(Image)\n",
    "# sum all the values in the image\n",
    "print(np.sum(Image))\n",
    "\n",
    "# scale gray image\n",
    "areaclean = areaclean* (255/np.max(areaclean))\n",
    "cv2.imwrite('./images/aoc9_area.bmp', areaclean)\n",
    "\n",
    "Image = Image* (255/np.max(Image))\n",
    "cv2.imwrite('./images/aoc9_lowpoints.bmp', Image)\n"
   ]
  },
  {
   "cell_type": "code",
   "execution_count": 4,
   "metadata": {},
   "outputs": [
    {
     "name": "stdout",
     "output_type": "stream",
     "text": [
      "107\n",
      "98\n",
      "92\n",
      "964712\n"
     ]
    }
   ],
   "source": [
    "area = np.full((len(data), len(data[0])), 0, dtype=np.uint8)\n",
    "\n",
    "for i in range(len(data)):\n",
    "    for j in range(len(data[i])):\n",
    "        area[i, j] = int(data[i][j])\n",
    "\n",
    "basin = np.full((len(data), len(data[0])), 0, dtype=np.uint8)\n",
    "scanmask = np.full((len(data), len(data[0])), 0, dtype=np.uint8)\n",
    "# for all pixels, if pixel is 9 then it is a basin pixel\n",
    "for i in range(0,len(area)):\n",
    "    for j in range(0,len(area[i])):\n",
    "        if area[i, j] < 9:\n",
    "            basin[i, j] = 1\n",
    "        else:\n",
    "            scanmask[i, j] = 1\n",
    "\n",
    "def ScanCount(basin, i, j, scanmask):\n",
    "    if basin[i, j] == 0:\n",
    "        return 0\n",
    "    else:\n",
    "        scanmask[i, j] = 1\n",
    "        count = 1\n",
    "        if i > 0:\n",
    "            if scanmask[i-1, j] == 0:\n",
    "                count += ScanCount(basin, i-1, j, scanmask)\n",
    "        if i < len(basin)-1:\n",
    "            if scanmask[i+1, j] == 0:\n",
    "                count += ScanCount(basin, i+1, j, scanmask)\n",
    "        \n",
    "        if j > 0:\n",
    "            if scanmask[i, j-1] == 0:\n",
    "                count += ScanCount(basin, i, j-1, scanmask)\n",
    "        if j < len(basin[i])-1:\n",
    "            if scanmask[i, j+1] == 0:\n",
    "                count += ScanCount(basin, i, j+1, scanmask)\n",
    "\n",
    "        return count\n",
    "\n",
    "\n",
    "BasinImage = basin* (255/np.max(basin))\n",
    "cv2.imwrite('./images/aoc9_basin.bmp', BasinImage)\n",
    "\n",
    "scanMaskImage = scanmask* (255/np.max(scanmask))\n",
    "cv2.imwrite('./images/aoc9_startscanmask.bmp', scanMaskImage)\n",
    "\n",
    "listofbasinSizes = []\n",
    "for i in range(0,len(basin)):\n",
    "    for j in range(0,len(basin[i])):\n",
    "        if basin[i, j] == 1 and scanmask[i, j] == 0:\n",
    "            listofbasinSizes.append(ScanCount(basin, i, j, scanmask))\n",
    "\n",
    "listofbasinSizes.sort(reverse=True)\n",
    "\n",
    "\n",
    "print(listofbasinSizes[0])\n",
    "print(listofbasinSizes[1])\n",
    "print(listofbasinSizes[2])\n",
    "print(listofbasinSizes[0] * listofbasinSizes[1] * listofbasinSizes[2])\n"
   ]
  }
 ],
 "metadata": {
  "interpreter": {
   "hash": "b3ba2566441a7c06988d0923437866b63cedc61552a5af99d1f4fb67d367b25f"
  },
  "kernelspec": {
   "display_name": "Python 3.8.5 64-bit ('base': conda)",
   "language": "python",
   "name": "python3"
  },
  "language_info": {
   "codemirror_mode": {
    "name": "ipython",
    "version": 3
   },
   "file_extension": ".py",
   "mimetype": "text/x-python",
   "name": "python",
   "nbconvert_exporter": "python",
   "pygments_lexer": "ipython3",
   "version": "3.8.5"
  },
  "orig_nbformat": 4
 },
 "nbformat": 4,
 "nbformat_minor": 2
}
