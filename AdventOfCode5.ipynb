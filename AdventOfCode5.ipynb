{
 "cells": [
  {
   "cell_type": "markdown",
   "metadata": {},
   "source": [
    "Assignment 5.1"
   ]
  },
  {
   "cell_type": "code",
   "execution_count": 200,
   "metadata": {},
   "outputs": [],
   "source": [
    "import cv2  \n",
    "import numpy as np\n",
    "\n",
    "class Line:\n",
    "    def __init__(self, start, end):\n",
    "        self.start = start\n",
    "        self.end = end\n",
    "        if ((end.x - start.x) == 0):\n",
    "            self.slope = None\n",
    "        else:\n",
    "            self.slope = (end.y - start.y) / (end.x - start.x)\n",
    "    def __str__(self):\n",
    "        return f\"{self.start} -> {self.end}\"\n",
    "\n",
    "    def LineFunction(self, x):\n",
    "        return self.slope * (x - self.start.x) + self.start.y\n",
    "    def GetPixels(self):\n",
    "        if self.slope == None:\n",
    "            for i in range(min(self.start.y, self.end.y),max(self.start.y, self.end.y)+1):\n",
    "                yield [self.start.x, i]\n",
    "        else:\n",
    "            for i in range(min(self.start.x, self.end.x),max(self.start.x, self.end.x)+1):\n",
    "                yield [i, int(self.LineFunction(i))]\n",
    "    \n",
    "    def Horizontal(self):\n",
    "        return self.start.y == self.end.y\n",
    "    def Vertical(self):\n",
    "        return self.start.x == self.end.x\n",
    "\n",
    "\n",
    "class Coordinate:\n",
    "    def __init__(self, x, y):\n",
    "        self.x = x\n",
    "        self.y = y\n",
    "    def __str__(self):\n",
    "        return f\"({self.x},{self.y})\"\n",
    "\n",
    "def GetLines():\n",
    "    data = []\n",
    "    with open('./data/aoc5.txt') as f:\n",
    "        data = f.readlines()\n",
    "\n",
    "    # remove \\n from each row\n",
    "    data = [x.strip() for x in data]\n",
    "    # split arrow from each line\n",
    "    data = [x.split('->') for x in data]\n",
    "    # remove empty strings from each line\n",
    "    data = [[x for x in y if x != ''] for y in data]\n",
    "    # split each line into start and end\n",
    "    data = [[y.split(',') for y in x] for x in data]\n",
    "    # convert to coordinate\n",
    "    data = [[Coordinate(int(x), int(y)) for x,y in z] for z in data]\n",
    "    # create lines\n",
    "    lines = []\n",
    "    for i in range(len(data)):\n",
    "        lines.append(Line(data[i][0], data[i][1]))\n",
    "    return lines\n",
    "\n",
    "lines = GetLines()\n",
    "\n",
    "validationData = []\n",
    "\n",
    "with open('./data/aoc5.txt') as f:\n",
    "    data = f.readlines()\n",
    "    data = [x.strip() for x in data]\n",
    "for line in lines:\n",
    "    validationData.append(str(line).replace(\"(\",'').replace(\")\",''))\n",
    "\n",
    "for i in range(len(validationData)):\n",
    "    if validationData[i] != data[i]:\n",
    "        print(f\"{i} {validationData[i]} != {data[i]}\")\n"
   ]
  },
  {
   "cell_type": "code",
   "execution_count": 201,
   "metadata": {},
   "outputs": [
    {
     "name": "stdout",
     "output_type": "stream",
     "text": [
      "6311\n"
     ]
    },
    {
     "data": {
      "text/plain": [
       "True"
      ]
     },
     "execution_count": 201,
     "metadata": {},
     "output_type": "execute_result"
    }
   ],
   "source": [
    "nArray = np.full((1000, 1000), 0, dtype=np.uint8)\n",
    "\n",
    "# draw lines\n",
    "for line in lines:\n",
    "    if line.Horizontal() or line.Vertical():\n",
    "        for pixel in line.GetPixels():\n",
    "            nArray[pixel[1]][pixel[0]] += 1\n",
    "\n",
    "# count pixels in nArray with value >= 2\n",
    "count = 0\n",
    "for i in range(1000):\n",
    "    for j in range(1000):\n",
    "        if nArray[i][j] >= 2:\n",
    "            count += 1\n",
    "print(count)\n",
    "\n",
    "# scale each pixel to a value between 0 and 255\n",
    "nArray = nArray / np.max(nArray) * 255\n",
    "\n",
    "cv2.imwrite(\"Images/Assignment5_1.bmp\", nArray)"
   ]
  },
  {
   "cell_type": "markdown",
   "metadata": {},
   "source": [
    "Assignment 5.2"
   ]
  },
  {
   "cell_type": "code",
   "execution_count": 205,
   "metadata": {},
   "outputs": [
    {
     "name": "stdout",
     "output_type": "stream",
     "text": [
      "19929\n"
     ]
    },
    {
     "data": {
      "text/plain": [
       "True"
      ]
     },
     "execution_count": 205,
     "metadata": {},
     "output_type": "execute_result"
    }
   ],
   "source": [
    "nArray = np.full((1000, 1000), 0, dtype=np.uint8)\n",
    "for line in lines:\n",
    "    for pixel in line.GetPixels():\n",
    "        nArray[pixel[1]][pixel[0]] += 1\n",
    "# count pixels in nArray with value >= 2\n",
    "count = 0\n",
    "for i in range(1000):\n",
    "    for j in range(1000):\n",
    "        if nArray[i][j] >= 2:\n",
    "            count += 1\n",
    "print(count)\n",
    "\n",
    "nArray = nArray / np.max(nArray) * 255\n",
    "cv2.imwrite(\"Images/Assignment5_2.bmp\", nArray)\n"
   ]
  },
  {
   "cell_type": "code",
   "execution_count": null,
   "metadata": {},
   "outputs": [],
   "source": []
  }
 ],
 "metadata": {
  "interpreter": {
   "hash": "b01a751e6708595f4741f9b5d8bbef81a532eceb9c15ba618fc11747fd589442"
  },
  "kernelspec": {
   "display_name": "Python 3.9.9 64-bit (windows store)",
   "language": "python",
   "name": "python3"
  },
  "language_info": {
   "codemirror_mode": {
    "name": "ipython",
    "version": 3
   },
   "file_extension": ".py",
   "mimetype": "text/x-python",
   "name": "python",
   "nbconvert_exporter": "python",
   "pygments_lexer": "ipython3",
   "version": "3.8.5"
  },
  "orig_nbformat": 4
 },
 "nbformat": 4,
 "nbformat_minor": 2
}
