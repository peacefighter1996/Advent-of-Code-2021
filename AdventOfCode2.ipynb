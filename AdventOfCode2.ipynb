{
 "cells": [
  {
   "cell_type": "markdown",
   "metadata": {},
   "source": [
    "Assigment day 2"
   ]
  },
  {
   "cell_type": "code",
   "execution_count": 195,
   "metadata": {},
   "outputs": [
    {
     "name": "stdout",
     "output_type": "stream",
     "text": [
      "The final position is: 1988, -913\n",
      "The final position multiple: 1815044\n"
     ]
    }
   ],
   "source": [
    "from enum import Enum\n",
    "\n",
    "\n",
    "class Movement:\n",
    "    def __init__(self, direction, distance):\n",
    "        self.direction = direction\n",
    "        self.distance = distance\n",
    "    def __str__(self):\n",
    "        return f\"{self.direction} {self.distance}\"\n",
    "\n",
    "class MovementDirection(Enum):\n",
    "    forward = 1\n",
    "    up = 2\n",
    "    down = 3\n",
    "\n",
    "def GetMovementList():\n",
    "    data = []\n",
    "    with open('./data/aoc2.txt') as f:\n",
    "        data = f.readlines()\n",
    "\n",
    "    # split the data into a list\n",
    "    for i in range(len(data)):\n",
    "        temp = data[i].split(' ')\n",
    "        # remove the \\n from the end of the string\n",
    "        temp[len(temp)-1] = temp[len(temp)-1].strip()\n",
    "        data[i] = Movement(MovementDirection[temp[0]], int(temp[1]))\n",
    "    return data\n",
    "\n",
    "data = GetMovementList()\n",
    "# Calculate the postion of the robot\n",
    "def calculate_position(movement_list):\n",
    "    x = 0\n",
    "    z = 0\n",
    "    for movement in movement_list:\n",
    "        if movement.direction == MovementDirection.forward:\n",
    "            x += movement.distance\n",
    "        elif movement.direction == MovementDirection.up:\n",
    "            z += movement.distance\n",
    "        elif movement.direction == MovementDirection.down:\n",
    "            z -= movement.distance\n",
    "    return x, z\n",
    "\n",
    "x,z = calculate_position(data)\n",
    "\n",
    "print(f\"The final position is: {x}, {z}\")\n",
    "print(f\"The final position multiple: {x*-z}\")"
   ]
  },
  {
   "cell_type": "markdown",
   "metadata": {},
   "source": [
    "Assignement Day 2.2"
   ]
  },
  {
   "cell_type": "code",
   "execution_count": 196,
   "metadata": {},
   "outputs": [
    {
     "name": "stdout",
     "output_type": "stream",
     "text": [
      "The final position is: 1988, -874891\n",
      "The final position multiple: 1739283308\n"
     ]
    }
   ],
   "source": [
    "# Calculate the postion of the robot with the new rules. Down decreases the aim. Up increases the aim. Forward increases the x distance and decreases the z multiplied by the aim.\n",
    "def calculate_position_new(movement_list):\n",
    "    aim = 0\n",
    "    x = 0\n",
    "    z = 0\n",
    "    for movement in movement_list:\n",
    "        if movement.direction == MovementDirection.forward:\n",
    "            x += movement.distance\n",
    "            z += aim * movement.distance\n",
    "        elif movement.direction == MovementDirection.up:\n",
    "            aim += movement.distance\n",
    "        elif movement.direction == MovementDirection.down:\n",
    "            aim -= movement.distance\n",
    "    return x, z\n",
    "\n",
    "data = GetMovementList()\n",
    "\n",
    "x,z = calculate_position_new(data)\n",
    "\n",
    "print(f\"The final position is: {x}, {z}\")\n",
    "print(f\"The final position multiple: {x*-z}\")"
   ]
  }
 ],
 "metadata": {
  "interpreter": {
   "hash": "b01a751e6708595f4741f9b5d8bbef81a532eceb9c15ba618fc11747fd589442"
  },
  "kernelspec": {
   "display_name": "Python 3.9.9 64-bit (windows store)",
   "language": "python",
   "name": "python3"
  },
  "language_info": {
   "codemirror_mode": {
    "name": "ipython",
    "version": 3
   },
   "file_extension": ".py",
   "mimetype": "text/x-python",
   "name": "python",
   "nbconvert_exporter": "python",
   "pygments_lexer": "ipython3",
   "version": "3.8.5"
  },
  "orig_nbformat": 4
 },
 "nbformat": 4,
 "nbformat_minor": 2
}
